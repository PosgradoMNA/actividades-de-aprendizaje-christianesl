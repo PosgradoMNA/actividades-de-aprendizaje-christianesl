{
  "nbformat": 4,
  "nbformat_minor": 0,
  "metadata": {
    "kernelspec": {
      "display_name": "Python 3",
      "language": "python",
      "name": "python3"
    },
    "language_info": {
      "codemirror_mode": {
        "name": "ipython",
        "version": 3
      },
      "file_extension": ".py",
      "mimetype": "text/x-python",
      "name": "python",
      "nbconvert_exporter": "python",
      "pygments_lexer": "ipython3",
      "version": "3.7.7"
    },
    "colab": {
      "provenance": [],
      "collapsed_sections": [
        "TIFwAtW1pc6h"
      ]
    },
    "accelerator": "GPU"
  },
  "cells": [
    {
      "cell_type": "markdown",
      "metadata": {
        "id": "WUO-kdryVQwK"
      },
      "source": [
        "# Linear Models\n"
      ]
    },
    {
      "cell_type": "code",
      "source": [],
      "metadata": {
        "id": "Msm89naSzi21"
      },
      "execution_count": null,
      "outputs": []
    },
    {
      "cell_type": "markdown",
      "metadata": {
        "id": "u3ytB4LpVQwM"
      },
      "source": [
        "- In supervised learning, the training data fed to the algorithm includes the desired solutions, called labels. \n",
        "- In **regression**, the labels are continuous quantities.\n",
        "- Linear models predict by computing a weighted sum of input features plus a bias term."
      ]
    },
    {
      "cell_type": "code",
      "metadata": {
        "id": "HMp_I4Y6VQwN"
      },
      "source": [
        "import numpy as np\n",
        "%matplotlib inline\n",
        "import matplotlib\n",
        "import matplotlib.pyplot as plt\n",
        "import pandas as pd\n",
        "import seaborn as sns\n",
        "np.random.seed(42)"
      ],
      "execution_count": 1,
      "outputs": []
    },
    {
      "cell_type": "code",
      "source": [
        "5-2"
      ],
      "metadata": {
        "colab": {
          "base_uri": "https://localhost:8080/",
          "height": 0
        },
        "id": "exg6xSYf3F5D",
        "outputId": "f7b698e7-4c92-4b51-fc00-b1015281c556"
      },
      "execution_count": 2,
      "outputs": [
        {
          "output_type": "execute_result",
          "data": {
            "text/plain": [
              "3"
            ]
          },
          "metadata": {},
          "execution_count": 2
        }
      ]
    },
    {
      "cell_type": "markdown",
      "metadata": {
        "id": "szpzFXgiVQwN"
      },
      "source": [
        "## Simple Linear Regression\n",
        "\n",
        "Simple linear regression equation:\n",
        "\n",
        "$y = ax + b$\n",
        "<br>\n",
        "$a$: slope\n",
        "<br>\n",
        "$b$: intercept\n",
        "\n",
        "Generate linear-looking data with the equation:\n",
        "\n",
        "$y = 3X + 4 + noise$"
      ]
    },
    {
      "cell_type": "code",
      "metadata": {
        "colab": {
          "base_uri": "https://localhost:8080/",
          "height": 0
        },
        "id": "mitJFYeiMQqD",
        "outputId": "1885646a-bbf3-498b-f9f9-344c3ce9d100"
      },
      "source": [
        "np.random.rand(100, 1)"
      ],
      "execution_count": 3,
      "outputs": [
        {
          "output_type": "execute_result",
          "data": {
            "text/plain": [
              "array([[0.37454012],\n",
              "       [0.95071431],\n",
              "       [0.73199394],\n",
              "       [0.59865848],\n",
              "       [0.15601864],\n",
              "       [0.15599452],\n",
              "       [0.05808361],\n",
              "       [0.86617615],\n",
              "       [0.60111501],\n",
              "       [0.70807258],\n",
              "       [0.02058449],\n",
              "       [0.96990985],\n",
              "       [0.83244264],\n",
              "       [0.21233911],\n",
              "       [0.18182497],\n",
              "       [0.18340451],\n",
              "       [0.30424224],\n",
              "       [0.52475643],\n",
              "       [0.43194502],\n",
              "       [0.29122914],\n",
              "       [0.61185289],\n",
              "       [0.13949386],\n",
              "       [0.29214465],\n",
              "       [0.36636184],\n",
              "       [0.45606998],\n",
              "       [0.78517596],\n",
              "       [0.19967378],\n",
              "       [0.51423444],\n",
              "       [0.59241457],\n",
              "       [0.04645041],\n",
              "       [0.60754485],\n",
              "       [0.17052412],\n",
              "       [0.06505159],\n",
              "       [0.94888554],\n",
              "       [0.96563203],\n",
              "       [0.80839735],\n",
              "       [0.30461377],\n",
              "       [0.09767211],\n",
              "       [0.68423303],\n",
              "       [0.44015249],\n",
              "       [0.12203823],\n",
              "       [0.49517691],\n",
              "       [0.03438852],\n",
              "       [0.9093204 ],\n",
              "       [0.25877998],\n",
              "       [0.66252228],\n",
              "       [0.31171108],\n",
              "       [0.52006802],\n",
              "       [0.54671028],\n",
              "       [0.18485446],\n",
              "       [0.96958463],\n",
              "       [0.77513282],\n",
              "       [0.93949894],\n",
              "       [0.89482735],\n",
              "       [0.59789998],\n",
              "       [0.92187424],\n",
              "       [0.0884925 ],\n",
              "       [0.19598286],\n",
              "       [0.04522729],\n",
              "       [0.32533033],\n",
              "       [0.38867729],\n",
              "       [0.27134903],\n",
              "       [0.82873751],\n",
              "       [0.35675333],\n",
              "       [0.28093451],\n",
              "       [0.54269608],\n",
              "       [0.14092422],\n",
              "       [0.80219698],\n",
              "       [0.07455064],\n",
              "       [0.98688694],\n",
              "       [0.77224477],\n",
              "       [0.19871568],\n",
              "       [0.00552212],\n",
              "       [0.81546143],\n",
              "       [0.70685734],\n",
              "       [0.72900717],\n",
              "       [0.77127035],\n",
              "       [0.07404465],\n",
              "       [0.35846573],\n",
              "       [0.11586906],\n",
              "       [0.86310343],\n",
              "       [0.62329813],\n",
              "       [0.33089802],\n",
              "       [0.06355835],\n",
              "       [0.31098232],\n",
              "       [0.32518332],\n",
              "       [0.72960618],\n",
              "       [0.63755747],\n",
              "       [0.88721274],\n",
              "       [0.47221493],\n",
              "       [0.11959425],\n",
              "       [0.71324479],\n",
              "       [0.76078505],\n",
              "       [0.5612772 ],\n",
              "       [0.77096718],\n",
              "       [0.4937956 ],\n",
              "       [0.52273283],\n",
              "       [0.42754102],\n",
              "       [0.02541913],\n",
              "       [0.10789143]])"
            ]
          },
          "metadata": {},
          "execution_count": 3
        }
      ]
    },
    {
      "cell_type": "code",
      "metadata": {
        "colab": {
          "base_uri": "https://localhost:8080/",
          "height": 265
        },
        "id": "QyubE1VEVQwN",
        "outputId": "b8ec9e9c-03a8-4f0d-9eb6-29fb5498dd78"
      },
      "source": [
        "X = 2*np.random.rand(100, 1)\n",
        "y = 4 + 3 * X + np.random.randn(100, 1)\n",
        "plt.scatter(X, y);"
      ],
      "execution_count": 4,
      "outputs": [
        {
          "output_type": "display_data",
          "data": {
            "text/plain": [
              "<Figure size 432x288 with 1 Axes>"
            ],
            "image/png": "[encoded data removed]"
          },
          "metadata": {
            "needs_background": "light"
          }
        }
      ]
    },
    {
      "cell_type": "code",
      "source": [
        "import pandas as pd\n",
        "pd.DataFrame(y)"
      ],
      "metadata": {
        "colab": {
          "base_uri": "https://localhost:8080/",
          "height": 424
        },
        "id": "M5kaENJ4bZY5",
        "outputId": "70929473-404e-4936-b2ac-7c8c2e3f24be"
      },
      "execution_count": 5,
      "outputs": [
        {
          "output_type": "execute_result",
          "data": {
            "text/plain": [
              "            0\n",
              "0    3.508550\n",
              "1    8.050716\n",
              "2    6.179208\n",
              "3    6.337073\n",
              "4   11.311173\n",
              "..        ...\n",
              "95   5.441928\n",
              "96  10.121188\n",
              "97   9.787643\n",
              "98   8.061635\n",
              "99   9.597115\n",
              "\n",
              "[100 rows x 1 columns]"
            ],
            "text/html": [
              "\n",
              "  <div id=\"df-eaf3e12f-6ab5-4330-af8c-6e4e8dfe88cb\">\n",
              "    <div class=\"colab-df-container\">\n",
              "      <div>\n",
              "<style scoped>\n",
              "    .dataframe tbody tr th:only-of-type {\n",
              "        vertical-align: middle;\n",
              "    }\n",
              "\n",
              "    .dataframe tbody tr th {\n",
              "        vertical-align: top;\n",
              "    }\n",
              "\n",
              "    .dataframe thead th {\n",
              "        text-align: right;\n",
              "    }\n",
              "</style>\n",
              "<table border=\"1\" class=\"dataframe\">\n",
              "  <thead>\n",
              "    <tr style=\"text-align: right;\">\n",
              "      <th></th>\n",
              "      <th>0</th>\n",
              "    </tr>\n",
              "  </thead>\n",
              "  <tbody>\n",
              "    <tr>\n",
              "      <th>0</th>\n",
              "      <td>3.508550</td>\n",
              "    </tr>\n",
              "    <tr>\n",
              "      <th>1</th>\n",
              "      <td>8.050716</td>\n",
              "    </tr>\n",
              "    <tr>\n",
              "      <th>2</th>\n",
              "      <td>6.179208</td>\n",
              "    </tr>\n",
              "    <tr>\n",
              "      <th>3</th>\n",
              "      <td>6.337073</td>\n",
              "    </tr>\n",
              "    <tr>\n",
              "      <th>4</th>\n",
              "      <td>11.311173</td>\n",
              "    </tr>\n",
              "    <tr>\n",
              "      <th>...</th>\n",
              "      <td>...</td>\n",
              "    </tr>\n",
              "    <tr>\n",
              "      <th>95</th>\n",
              "      <td>5.441928</td>\n",
              "    </tr>\n",
              "    <tr>\n",
              "      <th>96</th>\n",
              "      <td>10.121188</td>\n",
              "    </tr>\n",
              "    <tr>\n",
              "      <th>97</th>\n",
              "      <td>9.787643</td>\n",
              "    </tr>\n",
              "    <tr>\n",
              "      <th>98</th>\n",
              "      <td>8.061635</td>\n",
              "    </tr>\n",
              "    <tr>\n",
              "      <th>99</th>\n",
              "      <td>9.597115</td>\n",
              "    </tr>\n",
              "  </tbody>\n",
              "</table>\n",
              "<p>100 rows × 1 columns</p>\n",
              "</div>\n",
              "      <button class=\"colab-df-convert\" onclick=\"convertToInteractive('df-eaf3e12f-6ab5-4330-af8c-6e4e8dfe88cb')\"\n",
              "              title=\"Convert this dataframe to an interactive table.\"\n",
              "              style=\"display:none;\">\n",
              "        \n",
              "  <svg xmlns=\"http://www.w3.org/2000/svg\" height=\"24px\"viewBox=\"0 0 24 24\"\n",
              "       width=\"24px\">\n",
              "    <path d=\"M0 0h24v24H0V0z\" fill=\"none\"/>\n",
              "    <path d=\"M18.56 5.44l.94 2.06.94-2.06 2.06-.94-2.06-.94-.94-2.06-.94 2.06-2.06.94zm-11 1L8.5 8.5l.94-2.06 2.06-.94-2.06-.94L8.5 2.5l-.94 2.06-2.06.94zm10 10l.94 2.06.94-2.06 2.06-.94-2.06-.94-.94-2.06-.94 2.06-2.06.94z\"/><path d=\"M17.41 7.96l-1.37-1.37c-.4-.4-.92-.59-1.43-.59-.52 0-1.04.2-1.43.59L10.3 9.45l-7.72 7.72c-.78.78-.78 2.05 0 2.83L4 21.41c.39.39.9.59 1.41.59.51 0 1.02-.2 1.41-.59l7.78-7.78 2.81-2.81c.8-.78.8-2.07 0-2.86zM5.41 20L4 18.59l7.72-7.72 1.47 1.35L5.41 20z\"/>\n",
              "  </svg>\n",
              "      </button>\n",
              "      \n",
              "  <style>\n",
              "    .colab-df-container {\n",
              "      display:flex;\n",
              "      flex-wrap:wrap;\n",
              "      gap: 12px;\n",
              "    }\n",
              "\n",
              "    .colab-df-convert {\n",
              "      background-color: #E8F0FE;\n",
              "      border: none;\n",
              "      border-radius: 50%;\n",
              "      cursor: pointer;\n",
              "      display: none;\n",
              "      fill: #1967D2;\n",
              "      height: 32px;\n",
              "      padding: 0 0 0 0;\n",
              "      width: 32px;\n",
              "    }\n",
              "\n",
              "    .colab-df-convert:hover {\n",
              "      background-color: #E2EBFA;\n",
              "      box-shadow: 0px 1px 2px rgba(60, 64, 67, 0.3), 0px 1px 3px 1px rgba(60, 64, 67, 0.15);\n",
              "      fill: #174EA6;\n",
              "    }\n",
              "\n",
              "    [theme=dark] .colab-df-convert {\n",
              "      background-color: #3B4455;\n",
              "      fill: #D2E3FC;\n",
              "    }\n",
              "\n",
              "    [theme=dark] .colab-df-convert:hover {\n",
              "      background-color: #434B5C;\n",
              "      box-shadow: 0px 1px 3px 1px rgba(0, 0, 0, 0.15);\n",
              "      filter: drop-shadow(0px 1px 2px rgba(0, 0, 0, 0.3));\n",
              "      fill: #FFFFFF;\n",
              "    }\n",
              "  </style>\n",
              "\n",
              "      <script>\n",
              "        const buttonEl =\n",
              "          document.querySelector('#df-eaf3e12f-6ab5-4330-af8c-6e4e8dfe88cb button.colab-df-convert');\n",
              "        buttonEl.style.display =\n",
              "          google.colab.kernel.accessAllowed ? 'block' : 'none';\n",
              "\n",
              "        async function convertToInteractive(key) {\n",
              "          const element = document.querySelector('#df-eaf3e12f-6ab5-4330-af8c-6e4e8dfe88cb');\n",
              "          const dataTable =\n",
              "            await google.colab.kernel.invokeFunction('convertToInteractive',\n",
              "                                                     [key], {});\n",
              "          if (!dataTable) return;\n",
              "\n",
              "          const docLinkHtml = 'Like what you see? Visit the ' +\n",
              "            '<a target=\"_blank\" href=https://colab.research.google.com/notebooks/data_table.ipynb>data table notebook</a>'\n",
              "            + ' to learn more about interactive tables.';\n",
              "          element.innerHTML = '';\n",
              "          dataTable['output_type'] = 'display_data';\n",
              "          await google.colab.output.renderOutput(dataTable, element);\n",
              "          const docLink = document.createElement('div');\n",
              "          docLink.innerHTML = docLinkHtml;\n",
              "          element.appendChild(docLink);\n",
              "        }\n",
              "      </script>\n",
              "    </div>\n",
              "  </div>\n",
              "  "
            ]
          },
          "metadata": {},
          "execution_count": 5
        }
      ]
    },
    {
      "cell_type": "code",
      "metadata": {
        "colab": {
          "base_uri": "https://localhost:8080/",
          "height": 0
        },
        "id": "x6XGt_iAVQwO",
        "outputId": "24712deb-2306-4974-9de6-9d9e93374207"
      },
      "source": [
        "from sklearn.linear_model import LinearRegression\n",
        "\n",
        "linear_reg = LinearRegression(fit_intercept=True)\n",
        "linear_reg.fit(X, y)"
      ],
      "execution_count": 6,
      "outputs": [
        {
          "output_type": "execute_result",
          "data": {
            "text/plain": [
              "LinearRegression()"
            ]
          },
          "metadata": {},
          "execution_count": 6
        }
      ]
    },
    {
      "cell_type": "markdown",
      "metadata": {
        "id": "Hnm9YgjbVQwO"
      },
      "source": [
        "Plot the model's predictions:"
      ]
    },
    {
      "cell_type": "code",
      "metadata": {
        "id": "9NtrLfGGVQwP"
      },
      "source": [
        "#X_fit[]"
      ],
      "execution_count": 7,
      "outputs": []
    },
    {
      "cell_type": "code",
      "metadata": {
        "colab": {
          "base_uri": "https://localhost:8080/",
          "height": 287
        },
        "id": "1ZTT31igVQwP",
        "outputId": "6bc82a30-a84f-4c85-b891-07d29f51d38a"
      },
      "source": [
        "# construct best fit line\n",
        "X_fit = np.linspace(0, 2, 100)\n",
        "y_fit = linear_reg.predict(X_fit[:, np.newaxis])\n",
        "\n",
        "plt.scatter(X, y)\n",
        "plt.plot(X_fit, y_fit, \"r-\", linewidth=2, label=\"Predictions\")\n",
        "plt.xlabel(\"$X$\", fontsize=18)\n",
        "plt.ylabel(\"$y$\", rotation=0, fontsize=18)\n",
        "plt.legend(loc=\"upper left\", fontsize=14);"
      ],
      "execution_count": 8,
      "outputs": [
        {
          "output_type": "display_data",
          "data": {
            "text/plain": [
              "<Figure size 432x288 with 1 Axes>"
            ],
            "image/png": "[encoded data removed]"
          },
          "metadata": {
            "needs_background": "light"
          }
        }
      ]
    },
    {
      "cell_type": "markdown",
      "metadata": {
        "id": "kIfOsEcWVQwP"
      },
      "source": [
        "Predictions are a good fit."
      ]
    },
    {
      "cell_type": "markdown",
      "metadata": {
        "id": "z2VYUeGrVQwQ"
      },
      "source": [
        "Generate new data to make predictions with the model:"
      ]
    },
    {
      "cell_type": "code",
      "metadata": {
        "colab": {
          "base_uri": "https://localhost:8080/",
          "height": 0
        },
        "id": "FuEd0Wp0VQwQ",
        "outputId": "bdbabd22-812c-46d1-9298-634cd5214464"
      },
      "source": [
        "X_new = np.array([[0], [2]])\n",
        "X_new"
      ],
      "execution_count": 9,
      "outputs": [
        {
          "output_type": "execute_result",
          "data": {
            "text/plain": [
              "array([[0],\n",
              "       [2]])"
            ]
          },
          "metadata": {},
          "execution_count": 9
        }
      ]
    },
    {
      "cell_type": "code",
      "metadata": {
        "colab": {
          "base_uri": "https://localhost:8080/",
          "height": 0
        },
        "id": "lLCnLm7_VQwQ",
        "outputId": "df362584-b292-4323-8c31-7dd088a95042"
      },
      "source": [
        "X_new.shape"
      ],
      "execution_count": 10,
      "outputs": [
        {
          "output_type": "execute_result",
          "data": {
            "text/plain": [
              "(2, 1)"
            ]
          },
          "metadata": {},
          "execution_count": 10
        }
      ]
    },
    {
      "cell_type": "code",
      "metadata": {
        "colab": {
          "base_uri": "https://localhost:8080/",
          "height": 0
        },
        "id": "zJIzUfZsVQwQ",
        "outputId": "3e049fc0-7403-472b-92fc-682f1191c8cd"
      },
      "source": [
        "y_new = linear_reg.predict(X_new)\n",
        "y_new"
      ],
      "execution_count": 11,
      "outputs": [
        {
          "output_type": "execute_result",
          "data": {
            "text/plain": [
              "array([[ 3.74406122],\n",
              "       [10.47517611]])"
            ]
          },
          "metadata": {},
          "execution_count": 11
        }
      ]
    },
    {
      "cell_type": "code",
      "metadata": {
        "colab": {
          "base_uri": "https://localhost:8080/",
          "height": 0
        },
        "id": "ICiEnkbdVQwQ",
        "outputId": "af05195e-8a5b-47df-8d0e-045cf0b3745f"
      },
      "source": [
        " linear_reg.coef_, linear_reg.intercept_"
      ],
      "execution_count": 12,
      "outputs": [
        {
          "output_type": "execute_result",
          "data": {
            "text/plain": [
              "(array([[3.36555744]]), array([3.74406122]))"
            ]
          },
          "metadata": {},
          "execution_count": 12
        }
      ]
    },
    {
      "cell_type": "markdown",
      "metadata": {
        "id": "iBXzOecgVQwR"
      },
      "source": [
        "The model estimates:\n",
        "\n",
        "$\\hat{y} = 3.36X + 3.74$"
      ]
    },
    {
      "cell_type": "code",
      "metadata": {
        "id": "ZNvipq0wQYfj"
      },
      "source": [
        "#|VENTAS|GANANCIAS|\n",
        "#COEF*VENTAS+B\n",
        "#|VENTAS|COMPRAS|GANANCIAS|\n",
        "#COEF1*X1+COEF2*X2+B=Y"
      ],
      "execution_count": 13,
      "outputs": []
    },
    {
      "cell_type": "markdown",
      "metadata": {
        "id": "_Rv-RJSnVQwR"
      },
      "source": [
        "## Polynomial Regression\n",
        "\n",
        "If data is more complex than a straight line, you can use a linear model ti fit non-linear data adding powers of each feature as new features and then train a linear model on the extended set of features. "
      ]
    },
    {
      "cell_type": "markdown",
      "metadata": {
        "id": "dPrpAVsZVQwR"
      },
      "source": [
        "$$y = a_0 + a_1x_1 + a_2x_2 + a_3x_3 + ...$$ to $$y = a_0 + a_1x + a_2x^2 + a_3x^3+ ...$$ "
      ]
    },
    {
      "cell_type": "markdown",
      "metadata": {
        "id": "9kjMWzEfVQwR"
      },
      "source": [
        "This is still a linear model, the linearity refers to the fact that the coefficients never multiply or divide each other."
      ]
    },
    {
      "cell_type": "markdown",
      "metadata": {
        "id": "2M3fp_CSVQwR"
      },
      "source": [
        "To generate polynomial data we use the function:\n",
        "\n",
        "$y = 0.50X^2 + X + 2 + noise$"
      ]
    },
    {
      "cell_type": "code",
      "metadata": {
        "id": "sSrueMnPVQwR"
      },
      "source": [
        "# generate non-linear data e.g. quadratic equation\n",
        "m = 100\n",
        "X = 6 * np.random.rand(m, 1) - 3\n",
        "y = 0.5 * X**2 + X + 2 + np.random.randn(m, 1)"
      ],
      "execution_count": 14,
      "outputs": []
    },
    {
      "cell_type": "code",
      "metadata": {
        "colab": {
          "base_uri": "https://localhost:8080/",
          "height": 291
        },
        "id": "GNQQoXkMVQwS",
        "outputId": "9399c787-90d9-4a91-897e-19c01906e97b"
      },
      "source": [
        "plt.plot(X, y, \"b.\")\n",
        "plt.xlabel(\"$x_1$\", fontsize=18)\n",
        "plt.ylabel(\"$y$\", rotation=0, fontsize=18)\n",
        "plt.axis([-3, 3, 0, 10]);"
      ],
      "execution_count": 15,
      "outputs": [
        {
          "output_type": "display_data",
          "data": {
            "text/plain": [
              "<Figure size 432x288 with 1 Axes>"
            ],
            "image/png": "[encoded data removed]"
          },
          "metadata": {
            "needs_background": "light"
          }
        }
      ]
    },
    {
      "cell_type": "code",
      "source": [
        "import pandas as pd\n",
        "pd.DataFrame(y)"
      ],
      "metadata": {
        "id": "YtaK_dsidNcP",
        "outputId": "82321891-e855-4b34-a3de-96a8b4c29f5e",
        "colab": {
          "base_uri": "https://localhost:8080/",
          "height": 424
        }
      },
      "execution_count": 16,
      "outputs": [
        {
          "output_type": "execute_result",
          "data": {
            "text/plain": [
              "           0\n",
              "0   8.529240\n",
              "1   3.768929\n",
              "2   3.354423\n",
              "3   2.747935\n",
              "4   0.808458\n",
              "..       ...\n",
              "95  5.346771\n",
              "96  6.338229\n",
              "97  3.488785\n",
              "98  1.372002\n",
              "99 -0.072150\n",
              "\n",
              "[100 rows x 1 columns]"
            ],
            "text/html": [
              "\n",
              "  <div id=\"df-1881dd55-3955-49a6-b8b4-f0b1d08497db\">\n",
              "    <div class=\"colab-df-container\">\n",
              "      <div>\n",
              "<style scoped>\n",
              "    .dataframe tbody tr th:only-of-type {\n",
              "        vertical-align: middle;\n",
              "    }\n",
              "\n",
              "    .dataframe tbody tr th {\n",
              "        vertical-align: top;\n",
              "    }\n",
              "\n",
              "    .dataframe thead th {\n",
              "        text-align: right;\n",
              "    }\n",
              "</style>\n",
              "<table border=\"1\" class=\"dataframe\">\n",
              "  <thead>\n",
              "    <tr style=\"text-align: right;\">\n",
              "      <th></th>\n",
              "      <th>0</th>\n",
              "    </tr>\n",
              "  </thead>\n",
              "  <tbody>\n",
              "    <tr>\n",
              "      <th>0</th>\n",
              "      <td>8.529240</td>\n",
              "    </tr>\n",
              "    <tr>\n",
              "      <th>1</th>\n",
              "      <td>3.768929</td>\n",
              "    </tr>\n",
              "    <tr>\n",
              "      <th>2</th>\n",
              "      <td>3.354423</td>\n",
              "    </tr>\n",
              "    <tr>\n",
              "      <th>3</th>\n",
              "      <td>2.747935</td>\n",
              "    </tr>\n",
              "    <tr>\n",
              "      <th>4</th>\n",
              "      <td>0.808458</td>\n",
              "    </tr>\n",
              "    <tr>\n",
              "      <th>...</th>\n",
              "      <td>...</td>\n",
              "    </tr>\n",
              "    <tr>\n",
              "      <th>95</th>\n",
              "      <td>5.346771</td>\n",
              "    </tr>\n",
              "    <tr>\n",
              "      <th>96</th>\n",
              "      <td>6.338229</td>\n",
              "    </tr>\n",
              "    <tr>\n",
              "      <th>97</th>\n",
              "      <td>3.488785</td>\n",
              "    </tr>\n",
              "    <tr>\n",
              "      <th>98</th>\n",
              "      <td>1.372002</td>\n",
              "    </tr>\n",
              "    <tr>\n",
              "      <th>99</th>\n",
              "      <td>-0.072150</td>\n",
              "    </tr>\n",
              "  </tbody>\n",
              "</table>\n",
              "<p>100 rows × 1 columns</p>\n",
              "</div>\n",
              "      <button class=\"colab-df-convert\" onclick=\"convertToInteractive('df-1881dd55-3955-49a6-b8b4-f0b1d08497db')\"\n",
              "              title=\"Convert this dataframe to an interactive table.\"\n",
              "              style=\"display:none;\">\n",
              "        \n",
              "  <svg xmlns=\"http://www.w3.org/2000/svg\" height=\"24px\"viewBox=\"0 0 24 24\"\n",
              "       width=\"24px\">\n",
              "    <path d=\"M0 0h24v24H0V0z\" fill=\"none\"/>\n",
              "    <path d=\"M18.56 5.44l.94 2.06.94-2.06 2.06-.94-2.06-.94-.94-2.06-.94 2.06-2.06.94zm-11 1L8.5 8.5l.94-2.06 2.06-.94-2.06-.94L8.5 2.5l-.94 2.06-2.06.94zm10 10l.94 2.06.94-2.06 2.06-.94-2.06-.94-.94-2.06-.94 2.06-2.06.94z\"/><path d=\"M17.41 7.96l-1.37-1.37c-.4-.4-.92-.59-1.43-.59-.52 0-1.04.2-1.43.59L10.3 9.45l-7.72 7.72c-.78.78-.78 2.05 0 2.83L4 21.41c.39.39.9.59 1.41.59.51 0 1.02-.2 1.41-.59l7.78-7.78 2.81-2.81c.8-.78.8-2.07 0-2.86zM5.41 20L4 18.59l7.72-7.72 1.47 1.35L5.41 20z\"/>\n",
              "  </svg>\n",
              "      </button>\n",
              "      \n",
              "  <style>\n",
              "    .colab-df-container {\n",
              "      display:flex;\n",
              "      flex-wrap:wrap;\n",
              "      gap: 12px;\n",
              "    }\n",
              "\n",
              "    .colab-df-convert {\n",
              "      background-color: #E8F0FE;\n",
              "      border: none;\n",
              "      border-radius: 50%;\n",
              "      cursor: pointer;\n",
              "      display: none;\n",
              "      fill: #1967D2;\n",
              "      height: 32px;\n",
              "      padding: 0 0 0 0;\n",
              "      width: 32px;\n",
              "    }\n",
              "\n",
              "    .colab-df-convert:hover {\n",
              "      background-color: #E2EBFA;\n",
              "      box-shadow: 0px 1px 2px rgba(60, 64, 67, 0.3), 0px 1px 3px 1px rgba(60, 64, 67, 0.15);\n",
              "      fill: #174EA6;\n",
              "    }\n",
              "\n",
              "    [theme=dark] .colab-df-convert {\n",
              "      background-color: #3B4455;\n",
              "      fill: #D2E3FC;\n",
              "    }\n",
              "\n",
              "    [theme=dark] .colab-df-convert:hover {\n",
              "      background-color: #434B5C;\n",
              "      box-shadow: 0px 1px 3px 1px rgba(0, 0, 0, 0.15);\n",
              "      filter: drop-shadow(0px 1px 2px rgba(0, 0, 0, 0.3));\n",
              "      fill: #FFFFFF;\n",
              "    }\n",
              "  </style>\n",
              "\n",
              "      <script>\n",
              "        const buttonEl =\n",
              "          document.querySelector('#df-1881dd55-3955-49a6-b8b4-f0b1d08497db button.colab-df-convert');\n",
              "        buttonEl.style.display =\n",
              "          google.colab.kernel.accessAllowed ? 'block' : 'none';\n",
              "\n",
              "        async function convertToInteractive(key) {\n",
              "          const element = document.querySelector('#df-1881dd55-3955-49a6-b8b4-f0b1d08497db');\n",
              "          const dataTable =\n",
              "            await google.colab.kernel.invokeFunction('convertToInteractive',\n",
              "                                                     [key], {});\n",
              "          if (!dataTable) return;\n",
              "\n",
              "          const docLinkHtml = 'Like what you see? Visit the ' +\n",
              "            '<a target=\"_blank\" href=https://colab.research.google.com/notebooks/data_table.ipynb>data table notebook</a>'\n",
              "            + ' to learn more about interactive tables.';\n",
              "          element.innerHTML = '';\n",
              "          dataTable['output_type'] = 'display_data';\n",
              "          await google.colab.output.renderOutput(dataTable, element);\n",
              "          const docLink = document.createElement('div');\n",
              "          docLink.innerHTML = docLinkHtml;\n",
              "          element.appendChild(docLink);\n",
              "        }\n",
              "      </script>\n",
              "    </div>\n",
              "  </div>\n",
              "  "
            ]
          },
          "metadata": {},
          "execution_count": 16
        }
      ]
    },
    {
      "cell_type": "markdown",
      "metadata": {
        "id": "vrZTRaLNVQwS"
      },
      "source": [
        "Now we can use `PolynomialFeatues` to transform training data adding the square of each feature as new features."
      ]
    },
    {
      "cell_type": "code",
      "metadata": {
        "id": "BXo0Hm56VQwS"
      },
      "source": [
        "from sklearn.preprocessing import PolynomialFeatures\n",
        "\n",
        "poly_features = PolynomialFeatures(degree=2, include_bias=False)\n",
        "X_poly = poly_features.fit_transform(X)"
      ],
      "execution_count": 17,
      "outputs": []
    },
    {
      "cell_type": "code",
      "metadata": {
        "colab": {
          "base_uri": "https://localhost:8080/",
          "height": 0
        },
        "id": "1FqY9-I4VQwS",
        "outputId": "55670273-2b98-4ee5-b7ad-7d4ca0adae60"
      },
      "source": [
        "X_poly"
      ],
      "execution_count": 18,
      "outputs": [
        {
          "output_type": "execute_result",
          "data": {
            "text/plain": [
              "array([[ 2.72919168e+00,  7.44848725e+00],\n",
              "       [ 1.42738150e+00,  2.03741795e+00],\n",
              "       [ 3.26124315e-01,  1.06357069e-01],\n",
              "       [ 6.70324477e-01,  4.49334905e-01],\n",
              "       [-4.82399625e-01,  2.32709399e-01],\n",
              "       [-1.51361406e+00,  2.29102753e+00],\n",
              "       [-8.64163928e-01,  7.46779295e-01],\n",
              "       [ 1.54707666e+00,  2.39344620e+00],\n",
              "       [-2.91363907e+00,  8.48929262e+00],\n",
              "       [-2.30356416e+00,  5.30640783e+00],\n",
              "       [-2.72398415e+00,  7.42008964e+00],\n",
              "       [-2.75562719e+00,  7.59348119e+00],\n",
              "       [ 2.13276350e+00,  4.54868016e+00],\n",
              "       [ 1.22194716e+00,  1.49315485e+00],\n",
              "       [-1.54957025e-01,  2.40116797e-02],\n",
              "       [-2.41299504e+00,  5.82254504e+00],\n",
              "       [-5.03047493e-02,  2.53056780e-03],\n",
              "       [-1.59169375e-01,  2.53348900e-02],\n",
              "       [-1.96078878e+00,  3.84469264e+00],\n",
              "       [-3.96890105e-01,  1.57521755e-01],\n",
              "       [-6.08971594e-01,  3.70846402e-01],\n",
              "       [ 6.95100588e-01,  4.83164828e-01],\n",
              "       [ 8.10561905e-01,  6.57010602e-01],\n",
              "       [-2.72817594e+00,  7.44294397e+00],\n",
              "       [-7.52324312e-01,  5.65991871e-01],\n",
              "       [ 7.55159494e-01,  5.70265862e-01],\n",
              "       [ 1.88175515e-02,  3.54100244e-04],\n",
              "       [ 2.13893905e+00,  4.57506025e+00],\n",
              "       [ 9.52161790e-01,  9.06612074e-01],\n",
              "       [-2.02239344e+00,  4.09007522e+00],\n",
              "       [-2.57658752e+00,  6.63880323e+00],\n",
              "       [ 8.54515669e-01,  7.30197029e-01],\n",
              "       [-2.84093214e+00,  8.07089541e+00],\n",
              "       [ 5.14653488e-01,  2.64868212e-01],\n",
              "       [ 2.64138145e+00,  6.97689596e+00],\n",
              "       [ 4.52845067e-01,  2.05068655e-01],\n",
              "       [-6.70980443e-01,  4.50214755e-01],\n",
              "       [ 8.59729311e-01,  7.39134488e-01],\n",
              "       [-2.50482657e-01,  6.27415615e-02],\n",
              "       [ 2.73700736e-01,  7.49120928e-02],\n",
              "       [ 2.64878885e+00,  7.01608239e+00],\n",
              "       [-6.83384173e-01,  4.67013928e-01],\n",
              "       [ 2.76714338e+00,  7.65708250e+00],\n",
              "       [ 2.43210385e+00,  5.91512915e+00],\n",
              "       [-1.82525319e+00,  3.33154921e+00],\n",
              "       [-2.58383219e+00,  6.67618881e+00],\n",
              "       [-2.39533199e+00,  5.73761535e+00],\n",
              "       [-2.89066905e+00,  8.35596753e+00],\n",
              "       [-2.43334224e+00,  5.92115443e+00],\n",
              "       [ 1.09804064e+00,  1.20569325e+00],\n",
              "       [-2.57286811e+00,  6.61965031e+00],\n",
              "       [-1.08614622e+00,  1.17971361e+00],\n",
              "       [ 2.06925187e+00,  4.28180328e+00],\n",
              "       [-2.86036839e+00,  8.18170730e+00],\n",
              "       [ 1.88681090e+00,  3.56005536e+00],\n",
              "       [-1.30887135e+00,  1.71314421e+00],\n",
              "       [-2.29101103e+00,  5.24873156e+00],\n",
              "       [ 1.18042299e+00,  1.39339844e+00],\n",
              "       [ 7.73657081e-01,  5.98545278e-01],\n",
              "       [ 2.26483208e+00,  5.12946436e+00],\n",
              "       [ 1.41042626e+00,  1.98930224e+00],\n",
              "       [ 1.82088558e+00,  3.31562430e+00],\n",
              "       [-1.30779256e+00,  1.71032139e+00],\n",
              "       [-1.93536274e+00,  3.74562893e+00],\n",
              "       [ 1.50368851e+00,  2.26107913e+00],\n",
              "       [ 1.84100844e+00,  3.38931206e+00],\n",
              "       [ 2.94303085e+00,  8.66143060e+00],\n",
              "       [-5.24293939e-01,  2.74884134e-01],\n",
              "       [-7.67891485e-01,  5.89657333e-01],\n",
              "       [ 1.65847776e+00,  2.75054850e+00],\n",
              "       [-9.55178758e-01,  9.12366461e-01],\n",
              "       [ 2.58454395e+00,  6.67986745e+00],\n",
              "       [ 2.15047651e+00,  4.62454922e+00],\n",
              "       [-4.26035836e-01,  1.81506533e-01],\n",
              "       [ 1.50522641e+00,  2.26570654e+00],\n",
              "       [ 1.52725724e+00,  2.33251469e+00],\n",
              "       [-2.38125679e+00,  5.67038389e+00],\n",
              "       [ 2.41531744e+00,  5.83375834e+00],\n",
              "       [ 3.15142347e-02,  9.93146988e-04],\n",
              "       [ 1.95874480e+00,  3.83668118e+00],\n",
              "       [-1.07970239e+00,  1.16575726e+00],\n",
              "       [ 2.37313937e+00,  5.63179047e+00],\n",
              "       [-6.64789928e-01,  4.41945648e-01],\n",
              "       [-2.93497409e+00,  8.61407292e+00],\n",
              "       [ 2.43229186e+00,  5.91604369e+00],\n",
              "       [-2.45227994e+00,  6.01367690e+00],\n",
              "       [-1.08411817e+00,  1.17531222e+00],\n",
              "       [ 2.70037180e+00,  7.29200787e+00],\n",
              "       [ 2.70364288e+00,  7.30968483e+00],\n",
              "       [ 4.40627329e-01,  1.94152443e-01],\n",
              "       [ 7.91023273e-01,  6.25717818e-01],\n",
              "       [-3.09326868e-01,  9.56831113e-02],\n",
              "       [-1.24073537e+00,  1.53942426e+00],\n",
              "       [-1.02801273e+00,  1.05681017e+00],\n",
              "       [ 1.03511074e+00,  1.07145424e+00],\n",
              "       [ 1.51424718e+00,  2.29294451e+00],\n",
              "       [ 1.74947426e+00,  3.06066019e+00],\n",
              "       [ 1.73770886e+00,  3.01963207e+00],\n",
              "       [-2.45276338e+00,  6.01604821e+00],\n",
              "       [-3.34781718e-02,  1.12078799e-03]])"
            ]
          },
          "metadata": {},
          "execution_count": 18
        }
      ]
    },
    {
      "cell_type": "markdown",
      "metadata": {
        "id": "GrFMRU_eVQwS"
      },
      "source": [
        "`X_poly` now contains the original feature of X plus the square of the feature:"
      ]
    },
    {
      "cell_type": "code",
      "metadata": {
        "colab": {
          "base_uri": "https://localhost:8080/",
          "height": 0
        },
        "id": "M8FH1dY2UwgN",
        "outputId": "5a5380b7-d25e-4c92-9f1b-7724a84b2a26"
      },
      "source": [
        "print(X[0])\n",
        "print(X[0]*X[0])\n"
      ],
      "execution_count": 19,
      "outputs": [
        {
          "output_type": "stream",
          "name": "stdout",
          "text": [
            "[2.72919168]\n",
            "[7.44848725]\n"
          ]
        }
      ]
    },
    {
      "cell_type": "code",
      "metadata": {
        "colab": {
          "base_uri": "https://localhost:8080/",
          "height": 0
        },
        "id": "PSflPniWVQwT",
        "outputId": "3421031d-528c-430a-91bb-7020a98dddbd"
      },
      "source": [
        "X_poly[0]"
      ],
      "execution_count": 20,
      "outputs": [
        {
          "output_type": "execute_result",
          "data": {
            "text/plain": [
              "array([2.72919168, 7.44848725])"
            ]
          },
          "metadata": {},
          "execution_count": 20
        }
      ]
    },
    {
      "cell_type": "markdown",
      "metadata": {
        "id": "HaXjXg7FVQwT"
      },
      "source": [
        "Fit the model to this extended training data:"
      ]
    },
    {
      "cell_type": "code",
      "metadata": {
        "colab": {
          "base_uri": "https://localhost:8080/",
          "height": 0
        },
        "id": "c0Qu93dgVQwT",
        "outputId": "41a3bcc9-75f1-4e6f-c3c8-34b9a3c7c7e2"
      },
      "source": [
        "lin_reg = LinearRegression(fit_intercept=True)\n",
        "lin_reg.fit(X_poly, y)\n",
        "lin_reg.coef_, lin_reg.intercept_"
      ],
      "execution_count": 21,
      "outputs": [
        {
          "output_type": "execute_result",
          "data": {
            "text/plain": [
              "(array([[1.04271531, 0.50866711]]), array([2.01873554]))"
            ]
          },
          "metadata": {},
          "execution_count": 21
        }
      ]
    },
    {
      "cell_type": "markdown",
      "metadata": {
        "id": "rKOSwvnmVQwT"
      },
      "source": [
        "The model estimates:\n",
        "\n",
        "$\\hat{y} =  0.89X +0.48X^2 + 2.09$"
      ]
    },
    {
      "cell_type": "markdown",
      "metadata": {
        "id": "_EtZEKz5VQwT"
      },
      "source": [
        "Plot the data and the predictions:"
      ]
    },
    {
      "cell_type": "code",
      "metadata": {
        "colab": {
          "base_uri": "https://localhost:8080/",
          "height": 291
        },
        "id": "6Q8dHRgdVQwT",
        "outputId": "9b34cf4e-aec0-4932-8381-00d7cc52ff98"
      },
      "source": [
        "X_new=np.linspace(-3, 3, 100).reshape(100, 1)\n",
        "X_new_poly = poly_features.transform(X_new)\n",
        "y_new = lin_reg.predict(X_new_poly)\n",
        "plt.plot(X, y, \"b.\")\n",
        "plt.plot(X_new, y_new, \"r-\", linewidth=2, label=\"Predictions\")\n",
        "plt.xlabel(\"$x_1$\", fontsize=18)\n",
        "plt.ylabel(\"$y$\", rotation=0, fontsize=18)\n",
        "plt.legend(loc=\"upper left\", fontsize=14)\n",
        "plt.axis([-3, 3, 0, 10]);"
      ],
      "execution_count": 22,
      "outputs": [
        {
          "output_type": "display_data",
          "data": {
            "text/plain": [
              "<Figure size 432x288 with 1 Axes>"
            ],
            "image/png": "[encoded data removed]"
          },
          "metadata": {
            "needs_background": "light"
          }
        }
      ]
    },
    {
      "cell_type": "code",
      "source": [],
      "metadata": {
        "id": "vyq0o8f2pcqa"
      },
      "execution_count": 22,
      "outputs": []
    },
    {
      "cell_type": "markdown",
      "source": [
        "## R square\n",
        "\n",
        "R² es una medida estadística de qué tan cerca están los datos de la línea de regresión ajustada. También se conoce como el coeficiente de determinación o el coeficiente de determinación múltiple para la regresión múltiple. Para decirlo en un lenguaje más simple, R² es una medida de ajuste para los modelos de regresión lineal.\n",
        "\n",
        "\n",
        "\n",
        "R² no indica si un modelo de regresión se ajusta adecuadamente a sus datos. Un buen modelo puede tener un valor R² bajo. Por otro lado, un modelo sesgado puede tener un valor alto de R².\n",
        "\n",
        " SSres + SSreg = SStot, R² = Explained variation / Total Variation\n",
        " \n",
        " ![image.png](https://i.stack.imgur.com/xb1VY.png)\n",
        " \n",
        "![image.png](https://3.bp.blogspot.com/-MFqQLwbGwd4/WMO7tz39beI/AAAAAAAAF9I/Bjpfohgv_5E4lu7HzHJBQtXsBM--byqPwCLcB/s1600/rsquared.png)\n"
      ],
      "metadata": {
        "id": "TIFwAtW1pc6h"
      }
    },
    {
      "cell_type": "markdown",
      "metadata": {
        "id": "nTKFj4x9LMXm"
      },
      "source": [
        "# Ejercicio 1\n",
        "\n",
        "Utiliza la base de datos de \n",
        "https://www.kaggle.com/vinicius150987/manufacturing-cost\n",
        "\n",
        "Suponga que trabaja como consultor de una empresa de nueva creación que busca desarrollar un modelo para estimar el costo de los bienes vendidos a medida que varían el volumen de producción (número de unidades producidas). La startup recopiló datos y le pidió que desarrollara un modelo para predecir su costo frente a la cantidad de unidades vendidas."
      ]
    },
    {
      "cell_type": "code",
      "metadata": {
        "colab": {
          "base_uri": "https://localhost:8080/",
          "height": 363
        },
        "id": "oTnErQOkL3oa",
        "outputId": "f737e5a0-8aaa-4814-f76f-76fc0486f681"
      },
      "source": [
        "import pandas as pd\n",
        "df = pd.read_csv('https://raw.githubusercontent.com/marypazrf/bdd/main/EconomiesOfScale.csv')\n",
        "df.sample(10)"
      ],
      "execution_count": 23,
      "outputs": [
        {
          "output_type": "execute_result",
          "data": {
            "text/plain": [
              "     Number of Units  Manufacturing Cost\n",
              "968         7.065653           27.804027\n",
              "212         3.372115           41.127212\n",
              "416         4.194513           43.832711\n",
              "677         5.068888           41.225741\n",
              "550         4.604122           37.569764\n",
              "764         5.389522           31.191501\n",
              "386         4.104190           42.988730\n",
              "339         3.942214           46.291435\n",
              "82          2.665856           48.578425\n",
              "487         4.399514           37.567914"
            ],
            "text/html": [
              "\n",
              "  <div id=\"df-02171b4e-480c-4d24-9a77-496874a28969\">\n",
              "    <div class=\"colab-df-container\">\n",
              "      <div>\n",
              "<style scoped>\n",
              "    .dataframe tbody tr th:only-of-type {\n",
              "        vertical-align: middle;\n",
              "    }\n",
              "\n",
              "    .dataframe tbody tr th {\n",
              "        vertical-align: top;\n",
              "    }\n",
              "\n",
              "    .dataframe thead th {\n",
              "        text-align: right;\n",
              "    }\n",
              "</style>\n",
              "<table border=\"1\" class=\"dataframe\">\n",
              "  <thead>\n",
              "    <tr style=\"text-align: right;\">\n",
              "      <th></th>\n",
              "      <th>Number of Units</th>\n",
              "      <th>Manufacturing Cost</th>\n",
              "    </tr>\n",
              "  </thead>\n",
              "  <tbody>\n",
              "    <tr>\n",
              "      <th>968</th>\n",
              "      <td>7.065653</td>\n",
              "      <td>27.804027</td>\n",
              "    </tr>\n",
              "    <tr>\n",
              "      <th>212</th>\n",
              "      <td>3.372115</td>\n",
              "      <td>41.127212</td>\n",
              "    </tr>\n",
              "    <tr>\n",
              "      <th>416</th>\n",
              "      <td>4.194513</td>\n",
              "      <td>43.832711</td>\n",
              "    </tr>\n",
              "    <tr>\n",
              "      <th>677</th>\n",
              "      <td>5.068888</td>\n",
              "      <td>41.225741</td>\n",
              "    </tr>\n",
              "    <tr>\n",
              "      <th>550</th>\n",
              "      <td>4.604122</td>\n",
              "      <td>37.569764</td>\n",
              "    </tr>\n",
              "    <tr>\n",
              "      <th>764</th>\n",
              "      <td>5.389522</td>\n",
              "      <td>31.191501</td>\n",
              "    </tr>\n",
              "    <tr>\n",
              "      <th>386</th>\n",
              "      <td>4.104190</td>\n",
              "      <td>42.988730</td>\n",
              "    </tr>\n",
              "    <tr>\n",
              "      <th>339</th>\n",
              "      <td>3.942214</td>\n",
              "      <td>46.291435</td>\n",
              "    </tr>\n",
              "    <tr>\n",
              "      <th>82</th>\n",
              "      <td>2.665856</td>\n",
              "      <td>48.578425</td>\n",
              "    </tr>\n",
              "    <tr>\n",
              "      <th>487</th>\n",
              "      <td>4.399514</td>\n",
              "      <td>37.567914</td>\n",
              "    </tr>\n",
              "  </tbody>\n",
              "</table>\n",
              "</div>\n",
              "      <button class=\"colab-df-convert\" onclick=\"convertToInteractive('df-02171b4e-480c-4d24-9a77-496874a28969')\"\n",
              "              title=\"Convert this dataframe to an interactive table.\"\n",
              "              style=\"display:none;\">\n",
              "        \n",
              "  <svg xmlns=\"http://www.w3.org/2000/svg\" height=\"24px\"viewBox=\"0 0 24 24\"\n",
              "       width=\"24px\">\n",
              "    <path d=\"M0 0h24v24H0V0z\" fill=\"none\"/>\n",
              "    <path d=\"M18.56 5.44l.94 2.06.94-2.06 2.06-.94-2.06-.94-.94-2.06-.94 2.06-2.06.94zm-11 1L8.5 8.5l.94-2.06 2.06-.94-2.06-.94L8.5 2.5l-.94 2.06-2.06.94zm10 10l.94 2.06.94-2.06 2.06-.94-2.06-.94-.94-2.06-.94 2.06-2.06.94z\"/><path d=\"M17.41 7.96l-1.37-1.37c-.4-.4-.92-.59-1.43-.59-.52 0-1.04.2-1.43.59L10.3 9.45l-7.72 7.72c-.78.78-.78 2.05 0 2.83L4 21.41c.39.39.9.59 1.41.59.51 0 1.02-.2 1.41-.59l7.78-7.78 2.81-2.81c.8-.78.8-2.07 0-2.86zM5.41 20L4 18.59l7.72-7.72 1.47 1.35L5.41 20z\"/>\n",
              "  </svg>\n",
              "      </button>\n",
              "      \n",
              "  <style>\n",
              "    .colab-df-container {\n",
              "      display:flex;\n",
              "      flex-wrap:wrap;\n",
              "      gap: 12px;\n",
              "    }\n",
              "\n",
              "    .colab-df-convert {\n",
              "      background-color: #E8F0FE;\n",
              "      border: none;\n",
              "      border-radius: 50%;\n",
              "      cursor: pointer;\n",
              "      display: none;\n",
              "      fill: #1967D2;\n",
              "      height: 32px;\n",
              "      padding: 0 0 0 0;\n",
              "      width: 32px;\n",
              "    }\n",
              "\n",
              "    .colab-df-convert:hover {\n",
              "      background-color: #E2EBFA;\n",
              "      box-shadow: 0px 1px 2px rgba(60, 64, 67, 0.3), 0px 1px 3px 1px rgba(60, 64, 67, 0.15);\n",
              "      fill: #174EA6;\n",
              "    }\n",
              "\n",
              "    [theme=dark] .colab-df-convert {\n",
              "      background-color: #3B4455;\n",
              "      fill: #D2E3FC;\n",
              "    }\n",
              "\n",
              "    [theme=dark] .colab-df-convert:hover {\n",
              "      background-color: #434B5C;\n",
              "      box-shadow: 0px 1px 3px 1px rgba(0, 0, 0, 0.15);\n",
              "      filter: drop-shadow(0px 1px 2px rgba(0, 0, 0, 0.3));\n",
              "      fill: #FFFFFF;\n",
              "    }\n",
              "  </style>\n",
              "\n",
              "      <script>\n",
              "        const buttonEl =\n",
              "          document.querySelector('#df-02171b4e-480c-4d24-9a77-496874a28969 button.colab-df-convert');\n",
              "        buttonEl.style.display =\n",
              "          google.colab.kernel.accessAllowed ? 'block' : 'none';\n",
              "\n",
              "        async function convertToInteractive(key) {\n",
              "          const element = document.querySelector('#df-02171b4e-480c-4d24-9a77-496874a28969');\n",
              "          const dataTable =\n",
              "            await google.colab.kernel.invokeFunction('convertToInteractive',\n",
              "                                                     [key], {});\n",
              "          if (!dataTable) return;\n",
              "\n",
              "          const docLinkHtml = 'Like what you see? Visit the ' +\n",
              "            '<a target=\"_blank\" href=https://colab.research.google.com/notebooks/data_table.ipynb>data table notebook</a>'\n",
              "            + ' to learn more about interactive tables.';\n",
              "          element.innerHTML = '';\n",
              "          dataTable['output_type'] = 'display_data';\n",
              "          await google.colab.output.renderOutput(dataTable, element);\n",
              "          const docLink = document.createElement('div');\n",
              "          docLink.innerHTML = docLinkHtml;\n",
              "          element.appendChild(docLink);\n",
              "        }\n",
              "      </script>\n",
              "    </div>\n",
              "  </div>\n",
              "  "
            ]
          },
          "metadata": {},
          "execution_count": 23
        }
      ]
    },
    {
      "cell_type": "code",
      "metadata": {
        "id": "14kGO5nkMGlV"
      },
      "source": [
        "X = df[['Number of Units']]\n",
        "y = df['Manufacturing Cost']"
      ],
      "execution_count": 24,
      "outputs": []
    },
    {
      "cell_type": "code",
      "source": [
        "len(X)"
      ],
      "metadata": {
        "id": "ksh_OrkjY3GW",
        "outputId": "4c926b89-dd07-4c3a-840d-21c8d9b3a222",
        "colab": {
          "base_uri": "https://localhost:8080/",
          "height": 0
        }
      },
      "execution_count": 25,
      "outputs": [
        {
          "output_type": "execute_result",
          "data": {
            "text/plain": [
              "1000"
            ]
          },
          "metadata": {},
          "execution_count": 25
        }
      ]
    },
    {
      "cell_type": "code",
      "source": [
        "y.describe"
      ],
      "metadata": {
        "colab": {
          "base_uri": "https://localhost:8080/",
          "height": 0
        },
        "id": "bwR6SSqQDfC2",
        "outputId": "8c76c342-05e6-4205-ea66-eed9e4aebaca"
      },
      "execution_count": 26,
      "outputs": [
        {
          "output_type": "execute_result",
          "data": {
            "text/plain": [
              "<bound method NDFrame.describe of 0      95.066056\n",
              "1      96.531750\n",
              "2      73.661311\n",
              "3      95.566843\n",
              "4      98.777013\n",
              "         ...    \n",
              "995    23.855067\n",
              "996    27.536542\n",
              "997    25.973787\n",
              "998    25.138311\n",
              "999    21.547777\n",
              "Name: Manufacturing Cost, Length: 1000, dtype: float64>"
            ]
          },
          "metadata": {},
          "execution_count": 26
        }
      ]
    },
    {
      "cell_type": "code",
      "metadata": {
        "colab": {
          "base_uri": "https://localhost:8080/",
          "height": 282
        },
        "id": "idoEjfEhMoxk",
        "outputId": "535346ce-e45e-4832-a5ed-4e7ffdc49447"
      },
      "source": [
        "plt.plot(X,y,'b.')"
      ],
      "execution_count": 27,
      "outputs": [
        {
          "output_type": "execute_result",
          "data": {
            "text/plain": [
              "[<matplotlib.lines.Line2D at 0x7f72cce23110>]"
            ]
          },
          "metadata": {},
          "execution_count": 27
        },
        {
          "output_type": "display_data",
          "data": {
            "text/plain": [
              "<Figure size 432x288 with 1 Axes>"
            ],
            "image/png": "[encoded data removed]"
          },
          "metadata": {
            "needs_background": "light"
          }
        }
      ]
    },
    {
      "cell_type": "code",
      "source": [
        "#lineal\n",
        "linear_reg = LinearRegression(fit_intercept=True)\n",
        "linear_reg.fit(X,y)"
      ],
      "metadata": {
        "id": "kMmOy97puOLE",
        "colab": {
          "base_uri": "https://localhost:8080/",
          "height": 0
        },
        "outputId": "929bc048-f7bc-4100-9315-f0354ee030dd"
      },
      "execution_count": 28,
      "outputs": [
        {
          "output_type": "execute_result",
          "data": {
            "text/plain": [
              "LinearRegression()"
            ]
          },
          "metadata": {},
          "execution_count": 28
        }
      ]
    },
    {
      "cell_type": "code",
      "source": [
        "linear_reg.coef_"
      ],
      "metadata": {
        "colab": {
          "base_uri": "https://localhost:8080/",
          "height": 0
        },
        "id": "gtlbq_MxukfM",
        "outputId": "7dd8ad1e-b3d8-41c6-db9b-0d24d29364f1"
      },
      "execution_count": 29,
      "outputs": [
        {
          "output_type": "execute_result",
          "data": {
            "text/plain": [
              "array([-6.0333683])"
            ]
          },
          "metadata": {},
          "execution_count": 29
        }
      ]
    },
    {
      "cell_type": "code",
      "source": [
        "linear_reg.intercept_"
      ],
      "metadata": {
        "colab": {
          "base_uri": "https://localhost:8080/",
          "height": 0
        },
        "id": "8EFV0pkKunto",
        "outputId": "146838ed-37bc-409a-a1ba-994980289772"
      },
      "execution_count": 30,
      "outputs": [
        {
          "output_type": "execute_result",
          "data": {
            "text/plain": [
              "67.03904193389238"
            ]
          },
          "metadata": {},
          "execution_count": 30
        }
      ]
    },
    {
      "cell_type": "markdown",
      "source": [
        "y' = -6.03X + 67.03"
      ],
      "metadata": {
        "id": "tE-clLsfuvOE"
      }
    },
    {
      "cell_type": "code",
      "source": [
        "y_pred = linear_reg.predict(X)"
      ],
      "metadata": {
        "id": "ffEyzw10u3zH"
      },
      "execution_count": 31,
      "outputs": []
    },
    {
      "cell_type": "code",
      "metadata": {
        "id": "-VDz4zLK9Q0K",
        "outputId": "ca994c87-36db-46e0-a27c-372d01874673",
        "colab": {
          "base_uri": "https://localhost:8080/",
          "height": 0
        }
      },
      "source": [
        "from sklearn import metrics\n",
        "from sklearn.metrics import r2_score\n",
        "\n",
        "print('Error medio Absoluto (MAE):', metrics.mean_absolute_error(y, y_pred))\n",
        "print('Root Mean Squared Error:', np.sqrt(metrics.mean_squared_error(y, y_pred)))\n",
        "print('r2_score',r2_score(y, y_pred))"
      ],
      "execution_count": 32,
      "outputs": [
        {
          "output_type": "stream",
          "name": "stdout",
          "text": [
            "Error medio Absoluto (MAE): 4.921245677483368\n",
            "Root Mean Squared Error: 6.871474273023592\n",
            "r2_score 0.5789767558506287\n"
          ]
        }
      ]
    },
    {
      "cell_type": "code",
      "source": [
        "X_fit = np.linspace(0, 10, 100)\n",
        "y_fit = linear_reg.predict(X_fit[:, np.newaxis])\n",
        "\n",
        "plt.scatter(X, y)\n",
        "plt.plot(X_fit, y_fit, \"r-\", linewidth=2, label=\"Predictions\")\n",
        "plt.xlabel(\"$X$\", fontsize=18)\n",
        "plt.ylabel(\"$y$\", rotation=0, fontsize=18)\n",
        "plt.legend(loc=\"upper left\", fontsize=14);"
      ],
      "metadata": {
        "colab": {
          "base_uri": "https://localhost:8080/",
          "height": 342
        },
        "id": "x3uYXxl5vqAu",
        "outputId": "faccf53a-e264-4080-a434-f84ba97a5451"
      },
      "execution_count": 33,
      "outputs": [
        {
          "output_type": "stream",
          "name": "stderr",
          "text": [
            "/usr/local/lib/python3.7/dist-packages/sklearn/base.py:451: UserWarning: X does not have valid feature names, but LinearRegression was fitted with feature names\n",
            "  \"X does not have valid feature names, but\"\n"
          ]
        },
        {
          "output_type": "display_data",
          "data": {
            "text/plain": [
              "<Figure size 432x288 with 1 Axes>"
            ],
            "image/png": "[encoded data removed]"
          },
          "metadata": {
            "needs_background": "light"
          }
        }
      ]
    },
    {
      "cell_type": "code",
      "source": [
        "#polinomial\n",
        "poly_transform = PolynomialFeatures(degree=2, include_bias = False)\n",
        "polyX = poly_transform.fit_transform(X)\n",
        "\n",
        "polyX"
      ],
      "metadata": {
        "colab": {
          "base_uri": "https://localhost:8080/",
          "height": 0
        },
        "id": "MlrOb11Kvxnb",
        "outputId": "3f6826bf-2e2e-4690-9f27-c69aa0d24f04"
      },
      "execution_count": 34,
      "outputs": [
        {
          "output_type": "execute_result",
          "data": {
            "text/plain": [
              "array([[  1.        ,   1.        ],\n",
              "       [  1.18599365,   1.40658094],\n",
              "       [  1.19149864,   1.41966901],\n",
              "       ...,\n",
              "       [  8.78088812,  77.10399623],\n",
              "       [  8.89769971,  79.16906006],\n",
              "       [ 10.        , 100.        ]])"
            ]
          },
          "metadata": {},
          "execution_count": 34
        }
      ]
    },
    {
      "cell_type": "code",
      "source": [
        "poly_regression = LinearRegression(fit_intercept=True)\n",
        "poly_regression.fit(polyX, y)"
      ],
      "metadata": {
        "colab": {
          "base_uri": "https://localhost:8080/",
          "height": 0
        },
        "id": "9ji7isrYv24g",
        "outputId": "fe49ebb3-61c6-4f7c-a054-8994f9140311"
      },
      "execution_count": 35,
      "outputs": [
        {
          "output_type": "execute_result",
          "data": {
            "text/plain": [
              "LinearRegression()"
            ]
          },
          "metadata": {},
          "execution_count": 35
        }
      ]
    },
    {
      "cell_type": "code",
      "source": [
        "poly_regression.coef_\n"
      ],
      "metadata": {
        "colab": {
          "base_uri": "https://localhost:8080/",
          "height": 0
        },
        "id": "75j24Ki3v-sK",
        "outputId": "ad3c0ea1-4949-4036-c01f-85cc969dc64e"
      },
      "execution_count": 36,
      "outputs": [
        {
          "output_type": "execute_result",
          "data": {
            "text/plain": [
              "array([-16.82425278,   1.17336718])"
            ]
          },
          "metadata": {},
          "execution_count": 36
        }
      ]
    },
    {
      "cell_type": "code",
      "source": [
        "poly_regression.intercept_\n"
      ],
      "metadata": {
        "colab": {
          "base_uri": "https://localhost:8080/",
          "height": 0
        },
        "id": "MDF7AjbYwA_g",
        "outputId": "9f180351-392e-4acf-dc55-e21d4eeee27f"
      },
      "execution_count": 37,
      "outputs": [
        {
          "output_type": "execute_result",
          "data": {
            "text/plain": [
              "89.73719677939121"
            ]
          },
          "metadata": {},
          "execution_count": 37
        }
      ]
    },
    {
      "cell_type": "markdown",
      "source": [
        "y' = -16.82X + 1.17x^2 + 89.73"
      ],
      "metadata": {
        "id": "oMI19-3pwC_5"
      }
    },
    {
      "cell_type": "code",
      "source": [
        "y_pred = poly_regression.predict(polyX)\n"
      ],
      "metadata": {
        "id": "H1cbm9x6wNEI"
      },
      "execution_count": 38,
      "outputs": []
    },
    {
      "cell_type": "code",
      "source": [
        "X_fit = np.linspace(0, 10, 100).reshape(100,1)\n",
        "polyX_fit = poly_transform.fit_transform(X_fit)\n",
        "y_fit = poly_regression.predict(polyX_fit)\n",
        "\n",
        "plt.scatter(X, y)\n",
        "plt.plot(X_fit, y_fit, \"r-\", linewidth=2, label=\"Predictions\")\n",
        "plt.xlabel(\"$X$\", fontsize=18)\n",
        "plt.ylabel(\"$y$\", rotation=0, fontsize=18)\n",
        "plt.legend(loc=\"upper left\", fontsize=14);"
      ],
      "metadata": {
        "colab": {
          "base_uri": "https://localhost:8080/",
          "height": 287
        },
        "id": "vA76yzThwRMp",
        "outputId": "06bae5e6-d196-4e02-836e-bc1a4d2ba48c"
      },
      "execution_count": 39,
      "outputs": [
        {
          "output_type": "display_data",
          "data": {
            "text/plain": [
              "<Figure size 432x288 with 1 Axes>"
            ],
            "image/png": "[encoded data removed]"
          },
          "metadata": {
            "needs_background": "light"
          }
        }
      ]
    },
    {
      "cell_type": "code",
      "source": [
        "from sklearn import metrics\n",
        "from sklearn.metrics import r2_score\n",
        "\n",
        "print('Error medio Absoluto (MAE):', metrics.mean_absolute_error(y, y_pred))\n",
        "print('Root Mean Squared Error:', np.sqrt(metrics.mean_squared_error(y, y_pred)))\n",
        "print('r2_score',r2_score(y, y_pred))"
      ],
      "metadata": {
        "colab": {
          "base_uri": "https://localhost:8080/",
          "height": 0
        },
        "id": "8cMimf8UwV5U",
        "outputId": "5b232480-e7b8-4fe5-9635-f9a178d30efc"
      },
      "execution_count": 40,
      "outputs": [
        {
          "output_type": "stream",
          "name": "stdout",
          "text": [
            "Error medio Absoluto (MAE): 4.538765565228896\n",
            "Root Mean Squared Error: 6.129173450227568\n",
            "r2_score 0.6650268116056028\n"
          ]
        }
      ]
    },
    {
      "cell_type": "code",
      "source": [
        "df = pd.read_csv('https://raw.githubusercontent.com/marypazrf/bdd/main/EconomiesOfScale.csv')\n",
        "df.head()"
      ],
      "metadata": {
        "colab": {
          "base_uri": "https://localhost:8080/",
          "height": 206
        },
        "id": "QaMhckwpweDN",
        "outputId": "54eabf17-8d08-40ed-eb38-1fe48a85bf8d"
      },
      "execution_count": 41,
      "outputs": [
        {
          "output_type": "execute_result",
          "data": {
            "text/plain": [
              "   Number of Units  Manufacturing Cost\n",
              "0         1.000000           95.066056\n",
              "1         1.185994           96.531750\n",
              "2         1.191499           73.661311\n",
              "3         1.204771           95.566843\n",
              "4         1.298773           98.777013"
            ],
            "text/html": [
              "\n",
              "  <div id=\"df-c7ac220a-095c-40ed-a425-ba89e9650290\">\n",
              "    <div class=\"colab-df-container\">\n",
              "      <div>\n",
              "<style scoped>\n",
              "    .dataframe tbody tr th:only-of-type {\n",
              "        vertical-align: middle;\n",
              "    }\n",
              "\n",
              "    .dataframe tbody tr th {\n",
              "        vertical-align: top;\n",
              "    }\n",
              "\n",
              "    .dataframe thead th {\n",
              "        text-align: right;\n",
              "    }\n",
              "</style>\n",
              "<table border=\"1\" class=\"dataframe\">\n",
              "  <thead>\n",
              "    <tr style=\"text-align: right;\">\n",
              "      <th></th>\n",
              "      <th>Number of Units</th>\n",
              "      <th>Manufacturing Cost</th>\n",
              "    </tr>\n",
              "  </thead>\n",
              "  <tbody>\n",
              "    <tr>\n",
              "      <th>0</th>\n",
              "      <td>1.000000</td>\n",
              "      <td>95.066056</td>\n",
              "    </tr>\n",
              "    <tr>\n",
              "      <th>1</th>\n",
              "      <td>1.185994</td>\n",
              "      <td>96.531750</td>\n",
              "    </tr>\n",
              "    <tr>\n",
              "      <th>2</th>\n",
              "      <td>1.191499</td>\n",
              "      <td>73.661311</td>\n",
              "    </tr>\n",
              "    <tr>\n",
              "      <th>3</th>\n",
              "      <td>1.204771</td>\n",
              "      <td>95.566843</td>\n",
              "    </tr>\n",
              "    <tr>\n",
              "      <th>4</th>\n",
              "      <td>1.298773</td>\n",
              "      <td>98.777013</td>\n",
              "    </tr>\n",
              "  </tbody>\n",
              "</table>\n",
              "</div>\n",
              "      <button class=\"colab-df-convert\" onclick=\"convertToInteractive('df-c7ac220a-095c-40ed-a425-ba89e9650290')\"\n",
              "              title=\"Convert this dataframe to an interactive table.\"\n",
              "              style=\"display:none;\">\n",
              "        \n",
              "  <svg xmlns=\"http://www.w3.org/2000/svg\" height=\"24px\"viewBox=\"0 0 24 24\"\n",
              "       width=\"24px\">\n",
              "    <path d=\"M0 0h24v24H0V0z\" fill=\"none\"/>\n",
              "    <path d=\"M18.56 5.44l.94 2.06.94-2.06 2.06-.94-2.06-.94-.94-2.06-.94 2.06-2.06.94zm-11 1L8.5 8.5l.94-2.06 2.06-.94-2.06-.94L8.5 2.5l-.94 2.06-2.06.94zm10 10l.94 2.06.94-2.06 2.06-.94-2.06-.94-.94-2.06-.94 2.06-2.06.94z\"/><path d=\"M17.41 7.96l-1.37-1.37c-.4-.4-.92-.59-1.43-.59-.52 0-1.04.2-1.43.59L10.3 9.45l-7.72 7.72c-.78.78-.78 2.05 0 2.83L4 21.41c.39.39.9.59 1.41.59.51 0 1.02-.2 1.41-.59l7.78-7.78 2.81-2.81c.8-.78.8-2.07 0-2.86zM5.41 20L4 18.59l7.72-7.72 1.47 1.35L5.41 20z\"/>\n",
              "  </svg>\n",
              "      </button>\n",
              "      \n",
              "  <style>\n",
              "    .colab-df-container {\n",
              "      display:flex;\n",
              "      flex-wrap:wrap;\n",
              "      gap: 12px;\n",
              "    }\n",
              "\n",
              "    .colab-df-convert {\n",
              "      background-color: #E8F0FE;\n",
              "      border: none;\n",
              "      border-radius: 50%;\n",
              "      cursor: pointer;\n",
              "      display: none;\n",
              "      fill: #1967D2;\n",
              "      height: 32px;\n",
              "      padding: 0 0 0 0;\n",
              "      width: 32px;\n",
              "    }\n",
              "\n",
              "    .colab-df-convert:hover {\n",
              "      background-color: #E2EBFA;\n",
              "      box-shadow: 0px 1px 2px rgba(60, 64, 67, 0.3), 0px 1px 3px 1px rgba(60, 64, 67, 0.15);\n",
              "      fill: #174EA6;\n",
              "    }\n",
              "\n",
              "    [theme=dark] .colab-df-convert {\n",
              "      background-color: #3B4455;\n",
              "      fill: #D2E3FC;\n",
              "    }\n",
              "\n",
              "    [theme=dark] .colab-df-convert:hover {\n",
              "      background-color: #434B5C;\n",
              "      box-shadow: 0px 1px 3px 1px rgba(0, 0, 0, 0.15);\n",
              "      filter: drop-shadow(0px 1px 2px rgba(0, 0, 0, 0.3));\n",
              "      fill: #FFFFFF;\n",
              "    }\n",
              "  </style>\n",
              "\n",
              "      <script>\n",
              "        const buttonEl =\n",
              "          document.querySelector('#df-c7ac220a-095c-40ed-a425-ba89e9650290 button.colab-df-convert');\n",
              "        buttonEl.style.display =\n",
              "          google.colab.kernel.accessAllowed ? 'block' : 'none';\n",
              "\n",
              "        async function convertToInteractive(key) {\n",
              "          const element = document.querySelector('#df-c7ac220a-095c-40ed-a425-ba89e9650290');\n",
              "          const dataTable =\n",
              "            await google.colab.kernel.invokeFunction('convertToInteractive',\n",
              "                                                     [key], {});\n",
              "          if (!dataTable) return;\n",
              "\n",
              "          const docLinkHtml = 'Like what you see? Visit the ' +\n",
              "            '<a target=\"_blank\" href=https://colab.research.google.com/notebooks/data_table.ipynb>data table notebook</a>'\n",
              "            + ' to learn more about interactive tables.';\n",
              "          element.innerHTML = '';\n",
              "          dataTable['output_type'] = 'display_data';\n",
              "          await google.colab.output.renderOutput(dataTable, element);\n",
              "          const docLink = document.createElement('div');\n",
              "          docLink.innerHTML = docLinkHtml;\n",
              "          element.appendChild(docLink);\n",
              "        }\n",
              "      </script>\n",
              "    </div>\n",
              "  </div>\n",
              "  "
            ]
          },
          "metadata": {},
          "execution_count": 41
        }
      ]
    },
    {
      "cell_type": "code",
      "source": [
        "X = df[['Number of Units']]\n",
        "y = df['Manufacturing Cost']"
      ],
      "metadata": {
        "id": "LLjHZSC2wkIi"
      },
      "execution_count": 42,
      "outputs": []
    },
    {
      "cell_type": "code",
      "source": [
        "from sklearn.model_selection import train_test_split\n",
        "from sklearn.preprocessing import StandardScaler\n",
        "from sklearn.pipeline import Pipeline\n",
        "np.random.seed(42)\n",
        "X_train, X_test, y_train, y_test = train_test_split(X, y, test_size = 0.2, random_state = 11)"
      ],
      "metadata": {
        "id": "-xXOiR8Fwmoh"
      },
      "execution_count": 43,
      "outputs": []
    },
    {
      "cell_type": "markdown",
      "source": [
        "Lineal Regression"
      ],
      "metadata": {
        "id": "an_3QzVHxCkp"
      }
    },
    {
      "cell_type": "code",
      "source": [
        "X_train.shape\n"
      ],
      "metadata": {
        "colab": {
          "base_uri": "https://localhost:8080/",
          "height": 0
        },
        "id": "cJI9dHDAxEbr",
        "outputId": "f8cb5208-4c7e-4b43-d587-e334e73127e7"
      },
      "execution_count": 44,
      "outputs": [
        {
          "output_type": "execute_result",
          "data": {
            "text/plain": [
              "(800, 1)"
            ]
          },
          "metadata": {},
          "execution_count": 44
        }
      ]
    },
    {
      "cell_type": "code",
      "source": [
        "y_train.shape\n"
      ],
      "metadata": {
        "colab": {
          "base_uri": "https://localhost:8080/",
          "height": 0
        },
        "id": "HDSVRlqAxGvd",
        "outputId": "dfb63506-e5bb-4988-f467-5bd8c6bbc01f"
      },
      "execution_count": 45,
      "outputs": [
        {
          "output_type": "execute_result",
          "data": {
            "text/plain": [
              "(800,)"
            ]
          },
          "metadata": {},
          "execution_count": 45
        }
      ]
    },
    {
      "cell_type": "code",
      "source": [
        "y_test.shape\n"
      ],
      "metadata": {
        "colab": {
          "base_uri": "https://localhost:8080/",
          "height": 0
        },
        "id": "0TtL3F15xMDi",
        "outputId": "1ed1ae31-d98d-4509-b153-119cc0a3e74f"
      },
      "execution_count": 46,
      "outputs": [
        {
          "output_type": "execute_result",
          "data": {
            "text/plain": [
              "(200,)"
            ]
          },
          "metadata": {},
          "execution_count": 46
        }
      ]
    },
    {
      "cell_type": "code",
      "source": [
        "plt.scatter(X_train, y_train)"
      ],
      "metadata": {
        "colab": {
          "base_uri": "https://localhost:8080/",
          "height": 282
        },
        "id": "9kfbnwQ7xViz",
        "outputId": "e6c1557e-f294-4677-e679-a5d67594c7d6"
      },
      "execution_count": 47,
      "outputs": [
        {
          "output_type": "execute_result",
          "data": {
            "text/plain": [
              "<matplotlib.collections.PathCollection at 0x7f72ccd28a90>"
            ]
          },
          "metadata": {},
          "execution_count": 47
        },
        {
          "output_type": "display_data",
          "data": {
            "text/plain": [
              "<Figure size 432x288 with 1 Axes>"
            ],
            "image/png": "[encoded data removed]"
          },
          "metadata": {
            "needs_background": "light"
          }
        }
      ]
    },
    {
      "cell_type": "code",
      "source": [
        "from sklearn.linear_model import LinearRegression\n",
        "\n",
        "linear_reg = LinearRegression(fit_intercept=True)\n",
        "linear_reg.fit(X_train, y_train)"
      ],
      "metadata": {
        "colab": {
          "base_uri": "https://localhost:8080/",
          "height": 0
        },
        "id": "PZummEctxYIC",
        "outputId": "8cb7536b-4a92-488d-825b-43d5b51d7a49"
      },
      "execution_count": 48,
      "outputs": [
        {
          "output_type": "execute_result",
          "data": {
            "text/plain": [
              "LinearRegression()"
            ]
          },
          "metadata": {},
          "execution_count": 48
        }
      ]
    },
    {
      "cell_type": "code",
      "source": [
        "X_fit = np.linspace(0, 10, 100)\n",
        "y_fit = linear_reg.predict(X_fit[:, np.newaxis])\n",
        "\n",
        "plt.scatter(X_test, y_test)\n",
        "plt.plot(X_fit, y_fit, \"r-\", linewidth=2, label=\"Predictions\")\n",
        "plt.xlabel(\"$X$\", fontsize=18)\n",
        "plt.ylabel(\"$y$\", rotation=0, fontsize=18)\n",
        "plt.legend(loc=\"upper left\", fontsize=14);"
      ],
      "metadata": {
        "colab": {
          "base_uri": "https://localhost:8080/",
          "height": 342
        },
        "id": "YBRbDVdmxalr",
        "outputId": "70b35d95-d738-4b1d-91a4-8799fe95dd98"
      },
      "execution_count": 49,
      "outputs": [
        {
          "output_type": "stream",
          "name": "stderr",
          "text": [
            "/usr/local/lib/python3.7/dist-packages/sklearn/base.py:451: UserWarning: X does not have valid feature names, but LinearRegression was fitted with feature names\n",
            "  \"X does not have valid feature names, but\"\n"
          ]
        },
        {
          "output_type": "display_data",
          "data": {
            "text/plain": [
              "<Figure size 432x288 with 1 Axes>"
            ],
            "image/png": "[encoded data removed]"
          },
          "metadata": {
            "needs_background": "light"
          }
        }
      ]
    },
    {
      "cell_type": "code",
      "source": [
        "linear_reg.coef_\n"
      ],
      "metadata": {
        "colab": {
          "base_uri": "https://localhost:8080/",
          "height": 0
        },
        "id": "JP6we2_Qxg9R",
        "outputId": "c1444d8f-7a93-45cc-a8d8-cff74f0192ee"
      },
      "execution_count": 50,
      "outputs": [
        {
          "output_type": "execute_result",
          "data": {
            "text/plain": [
              "array([-6.22263745])"
            ]
          },
          "metadata": {},
          "execution_count": 50
        }
      ]
    },
    {
      "cell_type": "code",
      "source": [
        "linear_reg.intercept_\n"
      ],
      "metadata": {
        "colab": {
          "base_uri": "https://localhost:8080/",
          "height": 0
        },
        "id": "asiWCNZOxiJU",
        "outputId": "dacaffbd-6cd3-43e4-d65f-d2bbb90e8bfe"
      },
      "execution_count": 51,
      "outputs": [
        {
          "output_type": "execute_result",
          "data": {
            "text/plain": [
              "68.08187672497846"
            ]
          },
          "metadata": {},
          "execution_count": 51
        }
      ]
    },
    {
      "cell_type": "code",
      "source": [
        "y_pred = linear_reg.predict(X_train)\n",
        "from sklearn import metrics\n",
        "from sklearn.metrics import r2_score\n",
        "linear_Mae_train=metrics.mean_absolute_error(y_train,y_pred)\n",
        "linear_r2_train=r2_score(y_train,y_pred)\n",
        "print('Error medio Absoluto (MAE):', metrics.mean_absolute_error(y_train, y_pred))\n",
        "print('Root Mean Squared Error:', np.sqrt(metrics.mean_squared_error(y_train, y_pred)))\n",
        "print('r2_score', r2_score(y_train, y_pred))"
      ],
      "metadata": {
        "colab": {
          "base_uri": "https://localhost:8080/",
          "height": 0
        },
        "id": "GwmqIGcExkq_",
        "outputId": "5cc9ced4-d587-443a-c9d3-d27230993305"
      },
      "execution_count": 52,
      "outputs": [
        {
          "output_type": "stream",
          "name": "stdout",
          "text": [
            "Error medio Absoluto (MAE): 4.983664639039784\n",
            "Root Mean Squared Error: 6.930601695798021\n",
            "r2_score 0.594243664202029\n"
          ]
        }
      ]
    },
    {
      "cell_type": "code",
      "source": [
        "y_pred = linear_reg.predict(X_test)\n",
        "from sklearn import metrics\n",
        "from sklearn.metrics import r2_score\n",
        "linear_Mae=metrics.mean_absolute_error(y_test,y_pred)\n",
        "linear_r2=r2_score(y_test,y_pred)\n",
        "print('Error medio Absoluto (MAE):', metrics.mean_absolute_error(y_test, y_pred))\n",
        "print('Root Mean Squared Error:', np.sqrt(metrics.mean_squared_error(y_test, y_pred)))\n",
        "print('r2_score', r2_score(y_test, y_pred))"
      ],
      "metadata": {
        "colab": {
          "base_uri": "https://localhost:8080/",
          "height": 0
        },
        "id": "Pn8n10n0xmrB",
        "outputId": "fbd61f2b-6f55-4f5d-a945-80e9c05ddbed"
      },
      "execution_count": 53,
      "outputs": [
        {
          "output_type": "stream",
          "name": "stdout",
          "text": [
            "Error medio Absoluto (MAE): 4.83324114398872\n",
            "Root Mean Squared Error: 6.6682038827508405\n",
            "r2_score 0.48439969577999376\n"
          ]
        }
      ]
    },
    {
      "cell_type": "markdown",
      "source": [
        "Polynomical Regression"
      ],
      "metadata": {
        "id": "gJX7o_WCx264"
      }
    },
    {
      "cell_type": "code",
      "source": [
        "X_train, X_test, y_train, y_test = train_test_split(X, y, test_size = 0.2, random_state = 11)##dividimos los datos\n"
      ],
      "metadata": {
        "id": "NuS2H5_px5Ml"
      },
      "execution_count": 54,
      "outputs": []
    },
    {
      "cell_type": "code",
      "source": [
        "y_train.shape\n"
      ],
      "metadata": {
        "colab": {
          "base_uri": "https://localhost:8080/",
          "height": 0
        },
        "id": "TWGzdK0sx8cz",
        "outputId": "46b94fde-2a0c-49a3-efe2-b01e30f1c753"
      },
      "execution_count": 55,
      "outputs": [
        {
          "output_type": "execute_result",
          "data": {
            "text/plain": [
              "(800,)"
            ]
          },
          "metadata": {},
          "execution_count": 55
        }
      ]
    },
    {
      "cell_type": "code",
      "source": [
        "y_test.shape\n"
      ],
      "metadata": {
        "colab": {
          "base_uri": "https://localhost:8080/",
          "height": 0
        },
        "id": "cmcgw2tSx-ED",
        "outputId": "be0e0700-7fdf-45c4-bd7a-e302ee6a4051"
      },
      "execution_count": 56,
      "outputs": [
        {
          "output_type": "execute_result",
          "data": {
            "text/plain": [
              "(200,)"
            ]
          },
          "metadata": {},
          "execution_count": 56
        }
      ]
    },
    {
      "cell_type": "code",
      "source": [
        "plt.plot(X_train, y_train, \"b.\")\n",
        "plt.xlabel(\"$x_1$\", fontsize=18)\n",
        "plt.ylabel(\"$y$\", rotation=0, fontsize=18)\n",
        "plt.show()"
      ],
      "metadata": {
        "colab": {
          "base_uri": "https://localhost:8080/",
          "height": 287
        },
        "id": "NEDi-Y50yAM8",
        "outputId": "46cb19b1-3031-454e-b5f9-408d5f1ce0b3"
      },
      "execution_count": 57,
      "outputs": [
        {
          "output_type": "display_data",
          "data": {
            "text/plain": [
              "<Figure size 432x288 with 1 Axes>"
            ],
            "image/png": "[encoded data removed]"
          },
          "metadata": {
            "needs_background": "light"
          }
        }
      ]
    },
    {
      "cell_type": "code",
      "source": [
        "from sklearn.preprocessing import PolynomialFeatures\n",
        "\n",
        "poly_transform = PolynomialFeatures(degree=3, include_bias = False)\n",
        "polyX = poly_transform.fit_transform(X_train)\n",
        "polyX"
      ],
      "metadata": {
        "colab": {
          "base_uri": "https://localhost:8080/",
          "height": 0
        },
        "id": "HVIOmGxoyCVW",
        "outputId": "f6b399c1-7ccf-4738-c29a-efce6b7ae07b"
      },
      "execution_count": 58,
      "outputs": [
        {
          "output_type": "execute_result",
          "data": {
            "text/plain": [
              "array([[  5.65669179,  31.99816198, 181.00374013],\n",
              "       [  5.53635996,  30.65128163, 169.69652839],\n",
              "       [  2.25713058,   5.09463847,  11.49926431],\n",
              "       ...,\n",
              "       [  2.64655085,   7.00423138,  18.53705446],\n",
              "       [  5.18000789,  26.83248172, 138.99246696],\n",
              "       [  6.37652342,  40.66005096, 259.26976735]])"
            ]
          },
          "metadata": {},
          "execution_count": 58
        }
      ]
    },
    {
      "cell_type": "code",
      "source": [
        "poly_regression = LinearRegression(fit_intercept=True)\n",
        "poly_regression.fit(polyX, y_train)"
      ],
      "metadata": {
        "colab": {
          "base_uri": "https://localhost:8080/",
          "height": 0
        },
        "id": "ZPDqP2v1yD5g",
        "outputId": "b4ad684a-8bd8-4be0-c357-e550c137c78b"
      },
      "execution_count": 59,
      "outputs": [
        {
          "output_type": "execute_result",
          "data": {
            "text/plain": [
              "LinearRegression()"
            ]
          },
          "metadata": {},
          "execution_count": 59
        }
      ]
    },
    {
      "cell_type": "code",
      "source": [
        "poly_regression.coef_\n"
      ],
      "metadata": {
        "colab": {
          "base_uri": "https://localhost:8080/",
          "height": 0
        },
        "id": "BMwA_qLAyFym",
        "outputId": "97a92cb7-10cc-44be-9548-a5133e70578f"
      },
      "execution_count": 60,
      "outputs": [
        {
          "output_type": "execute_result",
          "data": {
            "text/plain": [
              "array([-35.3746951 ,   5.28612952,  -0.28112892])"
            ]
          },
          "metadata": {},
          "execution_count": 60
        }
      ]
    },
    {
      "cell_type": "code",
      "source": [
        "poly_regression.intercept_\n"
      ],
      "metadata": {
        "colab": {
          "base_uri": "https://localhost:8080/",
          "height": 0
        },
        "id": "yEJRyLKRyG_F",
        "outputId": "3716bca6-65b6-44a0-a775-8acb738e6189"
      },
      "execution_count": 61,
      "outputs": [
        {
          "output_type": "execute_result",
          "data": {
            "text/plain": [
              "115.22180379591046"
            ]
          },
          "metadata": {},
          "execution_count": 61
        }
      ]
    },
    {
      "cell_type": "code",
      "source": [
        "poly_transform = PolynomialFeatures(degree=3, include_bias = False)\n",
        "polyX = poly_transform.fit_transform(X_train)"
      ],
      "metadata": {
        "id": "Vh1vBgR_yIYu"
      },
      "execution_count": 62,
      "outputs": []
    },
    {
      "cell_type": "code",
      "source": [
        "y_pred = poly_regression.predict(polyX)\n"
      ],
      "metadata": {
        "id": "hsPXrCZJyJ4u"
      },
      "execution_count": 63,
      "outputs": []
    },
    {
      "cell_type": "code",
      "source": [
        "from sklearn import metrics\n",
        "from sklearn.metrics import r2_score\n",
        "Poly_Mae_train=metrics.mean_absolute_error(y_train,y_pred)\n",
        "Poly_r2_train=r2_score(y_train,y_pred)\n",
        "print('Error medio Absoluto (MAE):', metrics.mean_absolute_error(y_train, y_pred))\n",
        "print('Root Mean Squared Error:', np.sqrt(metrics.mean_squared_error(y_train, y_pred)))\n",
        "print('r2_score',r2_score(y_train, y_pred ))"
      ],
      "metadata": {
        "colab": {
          "base_uri": "https://localhost:8080/",
          "height": 0
        },
        "id": "1W5KkDwoyLXI",
        "outputId": "b256fad5-9784-4a40-979a-6b5265436d78"
      },
      "execution_count": 64,
      "outputs": [
        {
          "output_type": "stream",
          "name": "stdout",
          "text": [
            "Error medio Absoluto (MAE): 4.462630935588183\n",
            "Root Mean Squared Error: 5.858467673318268\n",
            "r2_score 0.7100711021026239\n"
          ]
        }
      ]
    },
    {
      "cell_type": "code",
      "source": [
        "X_fit = np.linspace(0, 10, 100).reshape(100,1)\n",
        "polyX_fit = poly_transform.fit_transform(X_fit)\n",
        "\n",
        "y_fit = poly_regression.predict(polyX_fit)\n",
        "\n",
        "plt.scatter(X_test, y_test)\n",
        "plt.plot(X_fit, y_fit, \"r-\", linewidth=2, label=\"Predictions\")\n",
        "plt.xlabel(\"$X$\", fontsize=18)\n",
        "plt.ylabel(\"$y$\", rotation=0, fontsize=18)\n",
        "plt.legend(loc=\"upper left\", fontsize=14);"
      ],
      "metadata": {
        "colab": {
          "base_uri": "https://localhost:8080/",
          "height": 290
        },
        "id": "ysnqdIwsyNNp",
        "outputId": "7b52248e-9b46-4b4f-bac3-95e49fc231db"
      },
      "execution_count": 65,
      "outputs": [
        {
          "output_type": "display_data",
          "data": {
            "text/plain": [
              "<Figure size 432x288 with 1 Axes>"
            ],
            "image/png": "[encoded data removed]"
          },
          "metadata": {
            "needs_background": "light"
          }
        }
      ]
    },
    {
      "cell_type": "code",
      "source": [
        "poly_transform = PolynomialFeatures(degree=3, include_bias = False)\n",
        "polyX = poly_transform.fit_transform(X_test)\n",
        "y_pred = poly_regression.predict(polyX)"
      ],
      "metadata": {
        "id": "QDbkPf8tyUf5"
      },
      "execution_count": 66,
      "outputs": []
    },
    {
      "cell_type": "code",
      "source": [
        "from sklearn import metrics\n",
        "from sklearn.metrics import r2_score\n",
        "Poly_Mae=metrics.mean_absolute_error(y_test,y_pred)\n",
        "Poly_r2=r2_score(y_test,y_pred)\n",
        "print('Error medio Absoluto (MAE):', metrics.mean_absolute_error(y_test, y_pred))\n",
        "print('Root Mean Squared Error:', np.sqrt(metrics.mean_squared_error(y_test, y_pred)))\n",
        "print('r2_score',r2_score(y_test, y_pred ))"
      ],
      "metadata": {
        "colab": {
          "base_uri": "https://localhost:8080/",
          "height": 0
        },
        "id": "olTw5B7wyWm0",
        "outputId": "971e5717-70bb-4a3f-c94a-8d865be5c7e3"
      },
      "execution_count": 67,
      "outputs": [
        {
          "output_type": "stream",
          "name": "stdout",
          "text": [
            "Error medio Absoluto (MAE): 4.6058129615113925\n",
            "Root Mean Squared Error: 6.209999522706177\n",
            "r2_score 0.5528239263527293\n"
          ]
        }
      ]
    },
    {
      "cell_type": "markdown",
      "source": [
        "Ridge"
      ],
      "metadata": {
        "id": "azGYORyoyeE7"
      }
    },
    {
      "cell_type": "code",
      "source": [
        "X_train, X_test, y_train, y_test = train_test_split(X, y, test_size = 0.2, random_state = 11)##dividimos los datos\n"
      ],
      "metadata": {
        "id": "2_cysG-Uye-r"
      },
      "execution_count": 68,
      "outputs": []
    },
    {
      "cell_type": "code",
      "source": [
        "plt.plot(X, y,\"b.\")\n",
        "plt.xlabel(\"$X$\", fontsize=15)\n",
        "plt.ylabel(\"$y$\", rotation=0, fontsize=15);"
      ],
      "metadata": {
        "colab": {
          "base_uri": "https://localhost:8080/",
          "height": 285
        },
        "id": "ITLb6lH5yhV1",
        "outputId": "3c16589a-6ae3-407b-8ac2-0d4502de672b"
      },
      "execution_count": 69,
      "outputs": [
        {
          "output_type": "display_data",
          "data": {
            "text/plain": [
              "<Figure size 432x288 with 1 Axes>"
            ],
            "image/png": "[encoded data removed]"
          },
          "metadata": {
            "needs_background": "light"
          }
        }
      ]
    },
    {
      "cell_type": "code",
      "source": [
        "plt.plot(X_train, y_train,\"b.\")\n",
        "plt.xlabel(\"$X$\", fontsize=15)\n",
        "plt.ylabel(\"$y$\", rotation=0, fontsize=15);"
      ],
      "metadata": {
        "colab": {
          "base_uri": "https://localhost:8080/",
          "height": 285
        },
        "id": "-hAUPoy4yjaD",
        "outputId": "c43b1b33-54f7-4c18-a7b8-7cebf3a570ce"
      },
      "execution_count": 70,
      "outputs": [
        {
          "output_type": "display_data",
          "data": {
            "text/plain": [
              "<Figure size 432x288 with 1 Axes>"
            ],
            "image/png": "[encoded data removed]"
          },
          "metadata": {
            "needs_background": "light"
          }
        }
      ]
    },
    {
      "cell_type": "code",
      "source": [
        "plt.plot(X_test, y_test,\"b.\")\n",
        "plt.xlabel(\"$X$\", fontsize=18)\n",
        "plt.ylabel(\"$y$\", rotation=0, fontsize=18);"
      ],
      "metadata": {
        "colab": {
          "base_uri": "https://localhost:8080/",
          "height": 287
        },
        "id": "wDghW-FCylIa",
        "outputId": "01f28969-839b-43bd-8257-f4df657375ca"
      },
      "execution_count": 71,
      "outputs": [
        {
          "output_type": "display_data",
          "data": {
            "text/plain": [
              "<Figure size 432x288 with 1 Axes>"
            ],
            "image/png": "[encoded data removed]"
          },
          "metadata": {
            "needs_background": "light"
          }
        }
      ]
    },
    {
      "cell_type": "code",
      "source": [
        "X_train2=X_train.to_numpy().reshape(-1,1)\n"
      ],
      "metadata": {
        "id": "iRO-jLLGyrpK"
      },
      "execution_count": 72,
      "outputs": []
    },
    {
      "cell_type": "code",
      "source": [
        "model = Pipeline([(\"poly_features\", PolynomialFeatures(degree=2, include_bias=False)),\n",
        "                  (\"scaler\", StandardScaler()),\n",
        "                  (\"linear_reg\", LinearRegression())])\n",
        "model.fit(X_train, y_train)"
      ],
      "metadata": {
        "colab": {
          "base_uri": "https://localhost:8080/",
          "height": 0
        },
        "id": "ecHyPR22yuyO",
        "outputId": "aa65b45b-0263-4a13-8b76-5eca8c930501"
      },
      "execution_count": 73,
      "outputs": [
        {
          "output_type": "execute_result",
          "data": {
            "text/plain": [
              "Pipeline(steps=[('poly_features', PolynomialFeatures(include_bias=False)),\n",
              "                ('scaler', StandardScaler()),\n",
              "                ('linear_reg', LinearRegression())])"
            ]
          },
          "metadata": {},
          "execution_count": 73
        }
      ]
    },
    {
      "cell_type": "code",
      "source": [
        "y_pred = model.predict(X_test)\n"
      ],
      "metadata": {
        "id": "l2CCD1xiywu8"
      },
      "execution_count": 74,
      "outputs": []
    },
    {
      "cell_type": "code",
      "source": [
        "order = np.argsort(X_test.values.ravel())\n",
        "X_test2 = X_test.values.ravel()[order]\n",
        "y_test2 = y_test.values[order]\n",
        "y_pred2 = y_pred[order]"
      ],
      "metadata": {
        "id": "0vjlQK0JyypH"
      },
      "execution_count": 75,
      "outputs": []
    },
    {
      "cell_type": "code",
      "source": [
        "plt.plot(X, y, \"b.\")\n",
        "plt.plot(X_test2, y_pred2, \"r-\", linewidth=1, label=\"No Regularization\")\n",
        "plt.xlabel(\"$X$\", fontsize=18)\n",
        "plt.ylabel(\"$y$\", rotation=0, fontsize=18)\n",
        "plt.legend(loc=\"upper right\", fontsize=10);"
      ],
      "metadata": {
        "colab": {
          "base_uri": "https://localhost:8080/",
          "height": 287
        },
        "id": "fvi6j76oy0Jp",
        "outputId": "321ed8b8-4888-4891-aeb0-8438c4780ca6"
      },
      "execution_count": 76,
      "outputs": [
        {
          "output_type": "display_data",
          "data": {
            "text/plain": [
              "<Figure size 432x288 with 1 Axes>"
            ],
            "image/png": "[encoded data removed]"
          },
          "metadata": {
            "needs_background": "light"
          }
        }
      ]
    },
    {
      "cell_type": "code",
      "source": [
        "from sklearn.linear_model import Ridge\n",
        "\n",
        "model_ridge = Pipeline([(\"poly_features\", PolynomialFeatures(degree=4, include_bias=False)),\n",
        "                  (\"scaler\", StandardScaler()),\n",
        "                  (\"ridge\", Ridge(alpha=1, solver = 'cholesky', random_state = 42,max_iter=1000))])\n",
        "model_ridge.fit(X_train, y_train)"
      ],
      "metadata": {
        "colab": {
          "base_uri": "https://localhost:8080/",
          "height": 0
        },
        "id": "hDiOj2gMy2b8",
        "outputId": "f32ec31a-2ab0-4845-84f3-4f14b7179d93"
      },
      "execution_count": 77,
      "outputs": [
        {
          "output_type": "execute_result",
          "data": {
            "text/plain": [
              "Pipeline(steps=[('poly_features',\n",
              "                 PolynomialFeatures(degree=4, include_bias=False)),\n",
              "                ('scaler', StandardScaler()),\n",
              "                ('ridge',\n",
              "                 Ridge(alpha=1, max_iter=1000, random_state=42,\n",
              "                       solver='cholesky'))])"
            ]
          },
          "metadata": {},
          "execution_count": 77
        }
      ]
    },
    {
      "cell_type": "code",
      "source": [
        "y_pred = model_ridge.predict(X_train)\n",
        "Ridge_Mae_train=metrics.mean_absolute_error(y_train,y_pred)\n",
        "Ridge_r2_train=r2_score(y_train,y_pred)\n",
        "print('Error medio Absoluto (MAE):', metrics.mean_absolute_error(y_train, y_pred))\n",
        "print('Root Mean Squared Error:', np.sqrt(metrics.mean_squared_error(y_train, y_pred)))\n",
        "print('r2_score', r2_score(y_train, y_pred))"
      ],
      "metadata": {
        "colab": {
          "base_uri": "https://localhost:8080/",
          "height": 0
        },
        "id": "seEvn0L4y4eO",
        "outputId": "8b61e6c1-0bfc-42b2-e5ed-fa5178f542ea"
      },
      "execution_count": 78,
      "outputs": [
        {
          "output_type": "stream",
          "name": "stdout",
          "text": [
            "Error medio Absoluto (MAE): 4.453130806314608\n",
            "Root Mean Squared Error: 5.948178018959322\n",
            "r2_score 0.7011237920037103\n"
          ]
        }
      ]
    },
    {
      "cell_type": "code",
      "source": [
        "y_pred = model_ridge.predict(X_test)\n",
        "\n",
        "order = np.argsort(X_test.values.ravel())\n",
        "X_test2 = X_test.values.ravel()[order]\n",
        "y_test2 = y_test.values[order]\n",
        "y_pred2 = y_pred[order]"
      ],
      "metadata": {
        "id": "ZWixtHqhy6bg"
      },
      "execution_count": 79,
      "outputs": []
    },
    {
      "cell_type": "code",
      "source": [
        "plt.plot(X_test, y_test, \"b.\")\n",
        "plt.plot(X_test2, y_pred2, \"g-\",label=\"with regularization\")\n",
        "plt.xlabel(\"$X$\", fontsize=12)\n",
        "plt.ylabel(\"$y$\", rotation=0, fontsize=12)\n",
        "plt.legend(loc=\"upper right\", fontsize=10);"
      ],
      "metadata": {
        "colab": {
          "base_uri": "https://localhost:8080/",
          "height": 282
        },
        "id": "T6s0DP7qy-UZ",
        "outputId": "f64c8963-35ad-406e-800d-263b9b842467"
      },
      "execution_count": 80,
      "outputs": [
        {
          "output_type": "display_data",
          "data": {
            "text/plain": [
              "<Figure size 432x288 with 1 Axes>"
            ],
            "image/png": "[encoded data removed]"
          },
          "metadata": {
            "needs_background": "light"
          }
        }
      ]
    },
    {
      "cell_type": "code",
      "source": [
        "X_test=X_test.to_numpy().reshape(-1,1)\n",
        "y_pred = model.predict(X_test)\n",
        "from sklearn import metrics\n",
        "from sklearn.metrics import r2_score\n",
        "Ridge_Mae=metrics.mean_absolute_error(y_test,y_pred)\n",
        "Ridge_r2=r2_score(y_test,y_pred)\n",
        "print('Error medio Absoluto (MAE):', metrics.mean_absolute_error(y_test, y_pred))\n",
        "print('Root Mean Squared Error:', np.sqrt(metrics.mean_squared_error(y_test, y_pred)))\n",
        "print('r2_score',r2_score(y_test, y_pred ))"
      ],
      "metadata": {
        "colab": {
          "base_uri": "https://localhost:8080/",
          "height": 0
        },
        "id": "oeQa1NkozPXF",
        "outputId": "cd0e2286-faf0-48d6-a100-8f008b1f3e95"
      },
      "execution_count": 81,
      "outputs": [
        {
          "output_type": "stream",
          "name": "stdout",
          "text": [
            "Error medio Absoluto (MAE): 4.762293483795133\n",
            "Root Mean Squared Error: 6.513768934466413\n",
            "r2_score 0.508005642552175\n"
          ]
        },
        {
          "output_type": "stream",
          "name": "stderr",
          "text": [
            "/usr/local/lib/python3.7/dist-packages/sklearn/base.py:451: UserWarning: X does not have valid feature names, but PolynomialFeatures was fitted with feature names\n",
            "  \"X does not have valid feature names, but\"\n"
          ]
        }
      ]
    },
    {
      "cell_type": "markdown",
      "source": [
        "lasso"
      ],
      "metadata": {
        "id": "LiD7mPeizwOA"
      }
    },
    {
      "cell_type": "code",
      "source": [
        "X_train, X_test, y_train, y_test = train_test_split(X, y, test_size = 0.2, random_state = 11)##dividimos los datos\n"
      ],
      "metadata": {
        "id": "lXiHwVOmzxVW"
      },
      "execution_count": 82,
      "outputs": []
    },
    {
      "cell_type": "code",
      "source": [
        "from sklearn.linear_model import Lasso\n",
        "\n",
        "model_lasso = Pipeline([(\"poly_features\", PolynomialFeatures(degree=15, include_bias=False)),\n",
        "                        (\"scaler\", StandardScaler()),\n",
        "                        (\"lasso\", Lasso(alpha = .9,random_state = 10,tol=0.1,max_iter=1000))])\n",
        "model_lasso.fit(X_train, y_train)"
      ],
      "metadata": {
        "colab": {
          "base_uri": "https://localhost:8080/",
          "height": 0
        },
        "id": "5ByX9tOiz1GY",
        "outputId": "fbe81650-8e55-4d97-9d82-210e33247b7b"
      },
      "execution_count": 83,
      "outputs": [
        {
          "output_type": "execute_result",
          "data": {
            "text/plain": [
              "Pipeline(steps=[('poly_features',\n",
              "                 PolynomialFeatures(degree=15, include_bias=False)),\n",
              "                ('scaler', StandardScaler()),\n",
              "                ('lasso', Lasso(alpha=0.9, random_state=10, tol=0.1))])"
            ]
          },
          "metadata": {},
          "execution_count": 83
        }
      ]
    },
    {
      "cell_type": "code",
      "source": [
        "y_pred = model_lasso.predict(X_train)\n"
      ],
      "metadata": {
        "id": "ZW02WCfa0HoG"
      },
      "execution_count": 84,
      "outputs": []
    },
    {
      "cell_type": "code",
      "source": [
        "Lasso_MAE_train=metrics.mean_absolute_error(y_train,y_pred)\n",
        "Lasso_r2_train=r2_score(y_train,y_pred)"
      ],
      "metadata": {
        "id": "voBZ0v8u0ast"
      },
      "execution_count": 85,
      "outputs": []
    },
    {
      "cell_type": "code",
      "source": [
        "print('Error medio Absoluto (MAE):', metrics.mean_absolute_error(y_train, y_pred))\n",
        "print('Root Mean Squared Error:', np.sqrt(metrics.mean_squared_error(y_train, y_pred)))\n",
        "print('r2_score',r2_score(y_train, y_pred ))"
      ],
      "metadata": {
        "colab": {
          "base_uri": "https://localhost:8080/",
          "height": 0
        },
        "id": "ebd8-khO0dQa",
        "outputId": "c6314e71-1b13-42f0-fc7d-83c2be065d08"
      },
      "execution_count": 86,
      "outputs": [
        {
          "output_type": "stream",
          "name": "stdout",
          "text": [
            "Error medio Absoluto (MAE): 4.8969775859486955\n",
            "Root Mean Squared Error: 6.935898287947112\n",
            "r2_score 0.5936232427341488\n"
          ]
        }
      ]
    },
    {
      "cell_type": "code",
      "source": [
        "y_pred = model_lasso.predict(X_test)\n"
      ],
      "metadata": {
        "id": "q4le9bP80e2E"
      },
      "execution_count": 87,
      "outputs": []
    },
    {
      "cell_type": "code",
      "source": [
        "order = np.argsort(X_test.values.ravel())\n",
        "X_test2 = X_test.values.ravel()[order]\n",
        "y_test2 = y_test.values[order]\n",
        "y_pred2 = y_pred[order]"
      ],
      "metadata": {
        "id": "OeglTXi-0f5e"
      },
      "execution_count": 88,
      "outputs": []
    },
    {
      "cell_type": "code",
      "source": [
        "plt.plot(X_test, y_test, \"b.\")\n",
        "plt.plot(X_test2, y_pred2, \"g-\",label=\"Predictions Lasso Regularization\")\n",
        "plt.xlabel(\"$X$\", fontsize=18)\n",
        "plt.ylabel(\"$y$\", rotation=0, fontsize=18)\n",
        "plt.legend(loc=\"upper right\", fontsize=10);"
      ],
      "metadata": {
        "colab": {
          "base_uri": "https://localhost:8080/",
          "height": 287
        },
        "id": "5XBB2oVU0g0T",
        "outputId": "db9143e1-b561-431e-ace7-7417da3f41e6"
      },
      "execution_count": 89,
      "outputs": [
        {
          "output_type": "display_data",
          "data": {
            "text/plain": [
              "<Figure size 432x288 with 1 Axes>"
            ],
            "image/png": "[encoded data removed]"
          },
          "metadata": {
            "needs_background": "light"
          }
        }
      ]
    },
    {
      "cell_type": "code",
      "source": [
        "y_pred = model_lasso.predict(X_test)\n",
        "from sklearn import metrics\n",
        "from sklearn.metrics import r2_score\n",
        "Lasso_MAE=metrics.mean_absolute_error(y_test,y_pred)\n",
        "Lasso_r2=r2_score(y_test,y_pred)\n",
        "print('Error medio Absoluto (MAE):', metrics.mean_absolute_error(y_test, y_pred))\n",
        "print('Root Mean Squared Error:', np.sqrt(metrics.mean_squared_error(y_test, y_pred)))\n",
        "print('r2_score',r2_score(y_test, y_pred ))"
      ],
      "metadata": {
        "colab": {
          "base_uri": "https://localhost:8080/",
          "height": 0
        },
        "id": "VyDzj-sn0inr",
        "outputId": "d038b3ad-d36c-4777-bc2f-356ddd43d763"
      },
      "execution_count": 90,
      "outputs": [
        {
          "output_type": "stream",
          "name": "stdout",
          "text": [
            "Error medio Absoluto (MAE): 4.646351122634725\n",
            "Root Mean Squared Error: 6.486538755327113\n",
            "r2_score 0.51211051393966\n"
          ]
        }
      ]
    },
    {
      "cell_type": "markdown",
      "source": [
        "MAE"
      ],
      "metadata": {
        "id": "rAaUombs0rM3"
      }
    },
    {
      "cell_type": "code",
      "source": [
        "def diagramas(metricas):\n",
        "    sumt=list()\n",
        "    diagrama=metricas\n",
        "    sumt.append(diagrama)\n",
        "    return sumt"
      ],
      "metadata": {
        "id": "HZRaXgIE0sO9"
      },
      "execution_count": 91,
      "outputs": []
    },
    {
      "cell_type": "code",
      "source": [
        "Metricas = list()\n",
        "Metricas.append('Lin train')\n",
        "Metricas.append('Lin')\n",
        "Metricas.append('Poly train')\n",
        "Metricas.append('Poly')\n",
        "Metricas.append('Ridge train')\n",
        "Metricas.append('Ridge')\n",
        "Metricas.append('Lasso train')\n",
        "Metricas.append('Lasso')"
      ],
      "metadata": {
        "id": "QUKSakWQ1W6E"
      },
      "execution_count": 92,
      "outputs": []
    },
    {
      "cell_type": "code",
      "source": [
        "MAE_list = list()\n",
        "MAE_list.append(linear_Mae_train)\n",
        "MAE_list.append(linear_Mae)\n",
        "MAE_list.append(Poly_Mae_train)\n",
        "MAE_list.append(Poly_Mae)\n",
        "MAE_list.append(Ridge_Mae_train)\n",
        "MAE_list.append(Ridge_Mae)\n",
        "MAE_list.append(Lasso_MAE_train)\n",
        "MAE_list.append(Lasso_MAE)"
      ],
      "metadata": {
        "id": "qaKAPoqb1YVm"
      },
      "execution_count": 93,
      "outputs": []
    },
    {
      "cell_type": "code",
      "source": [
        "fig, ax = plt.subplots(figsize =(8, 4))\n",
        "print(\"MAE\")\n",
        "print(MAE_list)\n",
        "Metricas=list(Metricas)\n",
        "plt.bar(Metricas,MAE_list)\n",
        "\n",
        "\n",
        "plt.show()"
      ],
      "metadata": {
        "colab": {
          "base_uri": "https://localhost:8080/",
          "height": 320
        },
        "id": "TKLQU1VF1hpT",
        "outputId": "d6f3370c-e85c-4e58-e23c-7dad8cb7e515"
      },
      "execution_count": 94,
      "outputs": [
        {
          "output_type": "stream",
          "name": "stdout",
          "text": [
            "MAE\n",
            "[4.983664639039784, 4.83324114398872, 4.462630935588183, 4.6058129615113925, 4.453130806314608, 4.762293483795133, 4.8969775859486955, 4.646351122634725]\n"
          ]
        },
        {
          "output_type": "display_data",
          "data": {
            "text/plain": [
              "<Figure size 576x288 with 1 Axes>"
            ],
            "image/png": "[encoded data removed]"
          },
          "metadata": {
            "needs_background": "light"
          }
        }
      ]
    },
    {
      "cell_type": "code",
      "source": [
        "R2_list = list()\n",
        "R2_list.append(linear_r2_train)\n",
        "R2_list.append(linear_r2)\n",
        "R2_list.append(Poly_r2_train)\n",
        "R2_list.append(Poly_r2)\n",
        "R2_list.append(Ridge_r2_train)\n",
        "R2_list.append(Ridge_r2)\n",
        "R2_list.append(Lasso_r2_train)\n",
        "R2_list.append(Lasso_r2)"
      ],
      "metadata": {
        "id": "UgHUGhWO1msZ"
      },
      "execution_count": 95,
      "outputs": []
    },
    {
      "cell_type": "code",
      "source": [
        "fig, ax = plt.subplots(figsize =(8, 4))\n",
        "print(\"r2\")\n",
        "print(R2_list)\n",
        "R2=list(R2_list)\n",
        "plt.bar(Metricas,R2_list)\n",
        "\n",
        "\n",
        "plt.show()"
      ],
      "metadata": {
        "colab": {
          "base_uri": "https://localhost:8080/",
          "height": 320
        },
        "id": "7Zc_ngNs1tJo",
        "outputId": "0a806e62-bc14-4f84-8cf5-3f1d426e43ae"
      },
      "execution_count": 96,
      "outputs": [
        {
          "output_type": "stream",
          "name": "stdout",
          "text": [
            "r2\n",
            "[0.594243664202029, 0.48439969577999376, 0.7100711021026239, 0.5528239263527293, 0.7011237920037103, 0.508005642552175, 0.5936232427341488, 0.51211051393966]\n"
          ]
        },
        {
          "output_type": "display_data",
          "data": {
            "text/plain": [
              "<Figure size 576x288 with 1 Axes>"
            ],
            "image/png": "[encoded data removed]"
          },
          "metadata": {
            "needs_background": "light"
          }
        }
      ]
    },
    {
      "cell_type": "markdown",
      "source": [
        "#Conclusiones del ejercicio 1\n",
        "\n",
        "La regression lineal no fue buena para los datos que se tienen. Mostro mejor comportamiento el modelo polinomial. \n",
        "\n",
        "Para la empresa convendria usar el modelo MAE pero se requiere hacer mas pruebas. "
      ],
      "metadata": {
        "id": "Rwl_x0j52ANe"
      }
    },
    {
      "cell_type": "markdown",
      "metadata": {
        "id": "CfqcmLmxLoe9"
      },
      "source": [
        "#Ejercicio 2\n",
        "Realiza la regresión polinomial de los siguientes datos:"
      ]
    },
    {
      "cell_type": "code",
      "source": [
        "from sklearn.linear_model import LinearRegression\n",
        "from sklearn.preprocessing import PolynomialFeatures\n",
        "from sklearn.linear_model import Lasso\n",
        "from sklearn.linear_model import Ridge\n",
        "from sklearn import metrics\n",
        "from sklearn.model_selection import train_test_split\n",
        "from sklearn.preprocessing import StandardScaler\n",
        "from sklearn.pipeline import Pipeline\n",
        "from sklearn.metrics import r2_score\n",
        "import numpy as np\n",
        "%matplotlib inline\n",
        "import matplotlib\n",
        "import matplotlib.pyplot as plt\n",
        "import pandas as pd\n",
        "import seaborn as sns\n",
        "np.random.seed(42)\n",
        "df = pd.read_csv('https://raw.githubusercontent.com/marypazrf/bdd/main/kc_house_data.csv')\n",
        "df.sample(10)"
      ],
      "metadata": {
        "id": "57bn0j38qGrg",
        "colab": {
          "base_uri": "https://localhost:8080/",
          "height": 456
        },
        "outputId": "b3df6841-4043-4c4c-f4f3-4fc58a46c0e5"
      },
      "execution_count": 97,
      "outputs": [
        {
          "output_type": "execute_result",
          "data": {
            "text/plain": [
              "               id             date      price  bedrooms  bathrooms  \\\n",
              "735    2591820310  20141006T000000   365000.0         4       2.25   \n",
              "2830   7974200820  20140821T000000   865000.0         5       3.00   \n",
              "4106   7701450110  20140815T000000  1038000.0         4       2.50   \n",
              "16218  9522300010  20150331T000000  1490000.0         3       3.50   \n",
              "19964  9510861140  20140714T000000   711000.0         3       2.50   \n",
              "1227   1761300310  20140827T000000   211000.0         4       2.00   \n",
              "18849  7732410120  20140819T000000   790000.0         4       2.50   \n",
              "19369  7010701383  20141017T000000   680000.0         3       2.50   \n",
              "20164   291310170  20140804T000000   384500.0         3       2.50   \n",
              "7139   4232901990  20140516T000000   605000.0         2       1.00   \n",
              "\n",
              "       sqft_living  sqft_lot  floors  waterfront  view  ...  grade  \\\n",
              "735           2070      8893     2.0           0     0  ...      8   \n",
              "2830          2900      6730     1.0           0     0  ...      8   \n",
              "4106          3770     10893     2.0           0     2  ...     11   \n",
              "16218         4560     14608     2.0           0     2  ...     12   \n",
              "19964         2550      5376     2.0           0     0  ...      9   \n",
              "1227          1710      8288     1.5           0     0  ...      7   \n",
              "18849         2690      8036     2.0           0     0  ...      9   \n",
              "19369         1800      4400     1.0           0     0  ...      7   \n",
              "20164         1600      2610     2.0           0     0  ...      8   \n",
              "7139           910      3600     1.0           0     0  ...      7   \n",
              "\n",
              "       sqft_above  sqft_basement  yr_built  yr_renovated  zipcode      lat  \\\n",
              "735          2070              0      1986             0    98058  47.4388   \n",
              "2830         1830           1070      1977             0    98115  47.6784   \n",
              "4106         3770              0      1997             0    98006  47.5646   \n",
              "16218        4560              0      1990             0    98034  47.6995   \n",
              "19964        2550              0      2004             0    98052  47.6647   \n",
              "1227         1710              0      1970             0    98031  47.3947   \n",
              "18849        2690              0      1987             0    98007  47.6596   \n",
              "19369        1350            450      1970             0    98199  47.6599   \n",
              "20164        1600              0      2005             0    98027  47.5344   \n",
              "7139          910              0      1909             0    98119  47.6341   \n",
              "\n",
              "          long  sqft_living15  sqft_lot15  \n",
              "735   -122.162           2390        7700  \n",
              "2830  -122.285           2370        6283  \n",
              "4106  -122.129           3710        9685  \n",
              "16218 -122.228           4050       14226  \n",
              "19964 -122.083           2250        4050  \n",
              "1227  -122.174           1710        7200  \n",
              "18849 -122.144           2420        8087  \n",
              "19369 -122.396           1920        4400  \n",
              "20164 -122.068           1445        1288  \n",
              "7139  -122.361           1720        3600  \n",
              "\n",
              "[10 rows x 21 columns]"
            ],
            "text/html": [
              "\n",
              "  <div id=\"df-51b6f06c-f14a-4a42-8fee-afcee2a2a60f\">\n",
              "    <div class=\"colab-df-container\">\n",
              "      <div>\n",
              "<style scoped>\n",
              "    .dataframe tbody tr th:only-of-type {\n",
              "        vertical-align: middle;\n",
              "    }\n",
              "\n",
              "    .dataframe tbody tr th {\n",
              "        vertical-align: top;\n",
              "    }\n",
              "\n",
              "    .dataframe thead th {\n",
              "        text-align: right;\n",
              "    }\n",
              "</style>\n",
              "<table border=\"1\" class=\"dataframe\">\n",
              "  <thead>\n",
              "    <tr style=\"text-align: right;\">\n",
              "      <th></th>\n",
              "      <th>id</th>\n",
              "      <th>date</th>\n",
              "      <th>price</th>\n",
              "      <th>bedrooms</th>\n",
              "      <th>bathrooms</th>\n",
              "      <th>sqft_living</th>\n",
              "      <th>sqft_lot</th>\n",
              "      <th>floors</th>\n",
              "      <th>waterfront</th>\n",
              "      <th>view</th>\n",
              "      <th>...</th>\n",
              "      <th>grade</th>\n",
              "      <th>sqft_above</th>\n",
              "      <th>sqft_basement</th>\n",
              "      <th>yr_built</th>\n",
              "      <th>yr_renovated</th>\n",
              "      <th>zipcode</th>\n",
              "      <th>lat</th>\n",
              "      <th>long</th>\n",
              "      <th>sqft_living15</th>\n",
              "      <th>sqft_lot15</th>\n",
              "    </tr>\n",
              "  </thead>\n",
              "  <tbody>\n",
              "    <tr>\n",
              "      <th>735</th>\n",
              "      <td>2591820310</td>\n",
              "      <td>20141006T000000</td>\n",
              "      <td>365000.0</td>\n",
              "      <td>4</td>\n",
              "      <td>2.25</td>\n",
              "      <td>2070</td>\n",
              "      <td>8893</td>\n",
              "      <td>2.0</td>\n",
              "      <td>0</td>\n",
              "      <td>0</td>\n",
              "      <td>...</td>\n",
              "      <td>8</td>\n",
              "      <td>2070</td>\n",
              "      <td>0</td>\n",
              "      <td>1986</td>\n",
              "      <td>0</td>\n",
              "      <td>98058</td>\n",
              "      <td>47.4388</td>\n",
              "      <td>-122.162</td>\n",
              "      <td>2390</td>\n",
              "      <td>7700</td>\n",
              "    </tr>\n",
              "    <tr>\n",
              "      <th>2830</th>\n",
              "      <td>7974200820</td>\n",
              "      <td>20140821T000000</td>\n",
              "      <td>865000.0</td>\n",
              "      <td>5</td>\n",
              "      <td>3.00</td>\n",
              "      <td>2900</td>\n",
              "      <td>6730</td>\n",
              "      <td>1.0</td>\n",
              "      <td>0</td>\n",
              "      <td>0</td>\n",
              "      <td>...</td>\n",
              "      <td>8</td>\n",
              "      <td>1830</td>\n",
              "      <td>1070</td>\n",
              "      <td>1977</td>\n",
              "      <td>0</td>\n",
              "      <td>98115</td>\n",
              "      <td>47.6784</td>\n",
              "      <td>-122.285</td>\n",
              "      <td>2370</td>\n",
              "      <td>6283</td>\n",
              "    </tr>\n",
              "    <tr>\n",
              "      <th>4106</th>\n",
              "      <td>7701450110</td>\n",
              "      <td>20140815T000000</td>\n",
              "      <td>1038000.0</td>\n",
              "      <td>4</td>\n",
              "      <td>2.50</td>\n",
              "      <td>3770</td>\n",
              "      <td>10893</td>\n",
              "      <td>2.0</td>\n",
              "      <td>0</td>\n",
              "      <td>2</td>\n",
              "      <td>...</td>\n",
              "      <td>11</td>\n",
              "      <td>3770</td>\n",
              "      <td>0</td>\n",
              "      <td>1997</td>\n",
              "      <td>0</td>\n",
              "      <td>98006</td>\n",
              "      <td>47.5646</td>\n",
              "      <td>-122.129</td>\n",
              "      <td>3710</td>\n",
              "      <td>9685</td>\n",
              "    </tr>\n",
              "    <tr>\n",
              "      <th>16218</th>\n",
              "      <td>9522300010</td>\n",
              "      <td>20150331T000000</td>\n",
              "      <td>1490000.0</td>\n",
              "      <td>3</td>\n",
              "      <td>3.50</td>\n",
              "      <td>4560</td>\n",
              "      <td>14608</td>\n",
              "      <td>2.0</td>\n",
              "      <td>0</td>\n",
              "      <td>2</td>\n",
              "      <td>...</td>\n",
              "      <td>12</td>\n",
              "      <td>4560</td>\n",
              "      <td>0</td>\n",
              "      <td>1990</td>\n",
              "      <td>0</td>\n",
              "      <td>98034</td>\n",
              "      <td>47.6995</td>\n",
              "      <td>-122.228</td>\n",
              "      <td>4050</td>\n",
              "      <td>14226</td>\n",
              "    </tr>\n",
              "    <tr>\n",
              "      <th>19964</th>\n",
              "      <td>9510861140</td>\n",
              "      <td>20140714T000000</td>\n",
              "      <td>711000.0</td>\n",
              "      <td>3</td>\n",
              "      <td>2.50</td>\n",
              "      <td>2550</td>\n",
              "      <td>5376</td>\n",
              "      <td>2.0</td>\n",
              "      <td>0</td>\n",
              "      <td>0</td>\n",
              "      <td>...</td>\n",
              "      <td>9</td>\n",
              "      <td>2550</td>\n",
              "      <td>0</td>\n",
              "      <td>2004</td>\n",
              "      <td>0</td>\n",
              "      <td>98052</td>\n",
              "      <td>47.6647</td>\n",
              "      <td>-122.083</td>\n",
              "      <td>2250</td>\n",
              "      <td>4050</td>\n",
              "    </tr>\n",
              "    <tr>\n",
              "      <th>1227</th>\n",
              "      <td>1761300310</td>\n",
              "      <td>20140827T000000</td>\n",
              "      <td>211000.0</td>\n",
              "      <td>4</td>\n",
              "      <td>2.00</td>\n",
              "      <td>1710</td>\n",
              "      <td>8288</td>\n",
              "      <td>1.5</td>\n",
              "      <td>0</td>\n",
              "      <td>0</td>\n",
              "      <td>...</td>\n",
              "      <td>7</td>\n",
              "      <td>1710</td>\n",
              "      <td>0</td>\n",
              "      <td>1970</td>\n",
              "      <td>0</td>\n",
              "      <td>98031</td>\n",
              "      <td>47.3947</td>\n",
              "      <td>-122.174</td>\n",
              "      <td>1710</td>\n",
              "      <td>7200</td>\n",
              "    </tr>\n",
              "    <tr>\n",
              "      <th>18849</th>\n",
              "      <td>7732410120</td>\n",
              "      <td>20140819T000000</td>\n",
              "      <td>790000.0</td>\n",
              "      <td>4</td>\n",
              "      <td>2.50</td>\n",
              "      <td>2690</td>\n",
              "      <td>8036</td>\n",
              "      <td>2.0</td>\n",
              "      <td>0</td>\n",
              "      <td>0</td>\n",
              "      <td>...</td>\n",
              "      <td>9</td>\n",
              "      <td>2690</td>\n",
              "      <td>0</td>\n",
              "      <td>1987</td>\n",
              "      <td>0</td>\n",
              "      <td>98007</td>\n",
              "      <td>47.6596</td>\n",
              "      <td>-122.144</td>\n",
              "      <td>2420</td>\n",
              "      <td>8087</td>\n",
              "    </tr>\n",
              "    <tr>\n",
              "      <th>19369</th>\n",
              "      <td>7010701383</td>\n",
              "      <td>20141017T000000</td>\n",
              "      <td>680000.0</td>\n",
              "      <td>3</td>\n",
              "      <td>2.50</td>\n",
              "      <td>1800</td>\n",
              "      <td>4400</td>\n",
              "      <td>1.0</td>\n",
              "      <td>0</td>\n",
              "      <td>0</td>\n",
              "      <td>...</td>\n",
              "      <td>7</td>\n",
              "      <td>1350</td>\n",
              "      <td>450</td>\n",
              "      <td>1970</td>\n",
              "      <td>0</td>\n",
              "      <td>98199</td>\n",
              "      <td>47.6599</td>\n",
              "      <td>-122.396</td>\n",
              "      <td>1920</td>\n",
              "      <td>4400</td>\n",
              "    </tr>\n",
              "    <tr>\n",
              "      <th>20164</th>\n",
              "      <td>291310170</td>\n",
              "      <td>20140804T000000</td>\n",
              "      <td>384500.0</td>\n",
              "      <td>3</td>\n",
              "      <td>2.50</td>\n",
              "      <td>1600</td>\n",
              "      <td>2610</td>\n",
              "      <td>2.0</td>\n",
              "      <td>0</td>\n",
              "      <td>0</td>\n",
              "      <td>...</td>\n",
              "      <td>8</td>\n",
              "      <td>1600</td>\n",
              "      <td>0</td>\n",
              "      <td>2005</td>\n",
              "      <td>0</td>\n",
              "      <td>98027</td>\n",
              "      <td>47.5344</td>\n",
              "      <td>-122.068</td>\n",
              "      <td>1445</td>\n",
              "      <td>1288</td>\n",
              "    </tr>\n",
              "    <tr>\n",
              "      <th>7139</th>\n",
              "      <td>4232901990</td>\n",
              "      <td>20140516T000000</td>\n",
              "      <td>605000.0</td>\n",
              "      <td>2</td>\n",
              "      <td>1.00</td>\n",
              "      <td>910</td>\n",
              "      <td>3600</td>\n",
              "      <td>1.0</td>\n",
              "      <td>0</td>\n",
              "      <td>0</td>\n",
              "      <td>...</td>\n",
              "      <td>7</td>\n",
              "      <td>910</td>\n",
              "      <td>0</td>\n",
              "      <td>1909</td>\n",
              "      <td>0</td>\n",
              "      <td>98119</td>\n",
              "      <td>47.6341</td>\n",
              "      <td>-122.361</td>\n",
              "      <td>1720</td>\n",
              "      <td>3600</td>\n",
              "    </tr>\n",
              "  </tbody>\n",
              "</table>\n",
              "<p>10 rows × 21 columns</p>\n",
              "</div>\n",
              "      <button class=\"colab-df-convert\" onclick=\"convertToInteractive('df-51b6f06c-f14a-4a42-8fee-afcee2a2a60f')\"\n",
              "              title=\"Convert this dataframe to an interactive table.\"\n",
              "              style=\"display:none;\">\n",
              "        \n",
              "  <svg xmlns=\"http://www.w3.org/2000/svg\" height=\"24px\"viewBox=\"0 0 24 24\"\n",
              "       width=\"24px\">\n",
              "    <path d=\"M0 0h24v24H0V0z\" fill=\"none\"/>\n",
              "    <path d=\"M18.56 5.44l.94 2.06.94-2.06 2.06-.94-2.06-.94-.94-2.06-.94 2.06-2.06.94zm-11 1L8.5 8.5l.94-2.06 2.06-.94-2.06-.94L8.5 2.5l-.94 2.06-2.06.94zm10 10l.94 2.06.94-2.06 2.06-.94-2.06-.94-.94-2.06-.94 2.06-2.06.94z\"/><path d=\"M17.41 7.96l-1.37-1.37c-.4-.4-.92-.59-1.43-.59-.52 0-1.04.2-1.43.59L10.3 9.45l-7.72 7.72c-.78.78-.78 2.05 0 2.83L4 21.41c.39.39.9.59 1.41.59.51 0 1.02-.2 1.41-.59l7.78-7.78 2.81-2.81c.8-.78.8-2.07 0-2.86zM5.41 20L4 18.59l7.72-7.72 1.47 1.35L5.41 20z\"/>\n",
              "  </svg>\n",
              "      </button>\n",
              "      \n",
              "  <style>\n",
              "    .colab-df-container {\n",
              "      display:flex;\n",
              "      flex-wrap:wrap;\n",
              "      gap: 12px;\n",
              "    }\n",
              "\n",
              "    .colab-df-convert {\n",
              "      background-color: #E8F0FE;\n",
              "      border: none;\n",
              "      border-radius: 50%;\n",
              "      cursor: pointer;\n",
              "      display: none;\n",
              "      fill: #1967D2;\n",
              "      height: 32px;\n",
              "      padding: 0 0 0 0;\n",
              "      width: 32px;\n",
              "    }\n",
              "\n",
              "    .colab-df-convert:hover {\n",
              "      background-color: #E2EBFA;\n",
              "      box-shadow: 0px 1px 2px rgba(60, 64, 67, 0.3), 0px 1px 3px 1px rgba(60, 64, 67, 0.15);\n",
              "      fill: #174EA6;\n",
              "    }\n",
              "\n",
              "    [theme=dark] .colab-df-convert {\n",
              "      background-color: #3B4455;\n",
              "      fill: #D2E3FC;\n",
              "    }\n",
              "\n",
              "    [theme=dark] .colab-df-convert:hover {\n",
              "      background-color: #434B5C;\n",
              "      box-shadow: 0px 1px 3px 1px rgba(0, 0, 0, 0.15);\n",
              "      filter: drop-shadow(0px 1px 2px rgba(0, 0, 0, 0.3));\n",
              "      fill: #FFFFFF;\n",
              "    }\n",
              "  </style>\n",
              "\n",
              "      <script>\n",
              "        const buttonEl =\n",
              "          document.querySelector('#df-51b6f06c-f14a-4a42-8fee-afcee2a2a60f button.colab-df-convert');\n",
              "        buttonEl.style.display =\n",
              "          google.colab.kernel.accessAllowed ? 'block' : 'none';\n",
              "\n",
              "        async function convertToInteractive(key) {\n",
              "          const element = document.querySelector('#df-51b6f06c-f14a-4a42-8fee-afcee2a2a60f');\n",
              "          const dataTable =\n",
              "            await google.colab.kernel.invokeFunction('convertToInteractive',\n",
              "                                                     [key], {});\n",
              "          if (!dataTable) return;\n",
              "\n",
              "          const docLinkHtml = 'Like what you see? Visit the ' +\n",
              "            '<a target=\"_blank\" href=https://colab.research.google.com/notebooks/data_table.ipynb>data table notebook</a>'\n",
              "            + ' to learn more about interactive tables.';\n",
              "          element.innerHTML = '';\n",
              "          dataTable['output_type'] = 'display_data';\n",
              "          await google.colab.output.renderOutput(dataTable, element);\n",
              "          const docLink = document.createElement('div');\n",
              "          docLink.innerHTML = docLinkHtml;\n",
              "          element.appendChild(docLink);\n",
              "        }\n",
              "      </script>\n",
              "    </div>\n",
              "  </div>\n",
              "  "
            ]
          },
          "metadata": {},
          "execution_count": 97
        }
      ]
    },
    {
      "cell_type": "code",
      "source": [
        "df.info()"
      ],
      "metadata": {
        "id": "n0fs14KoqI3M",
        "colab": {
          "base_uri": "https://localhost:8080/",
          "height": 0
        },
        "outputId": "e6a88377-bd2b-4374-9434-6135815ac96f"
      },
      "execution_count": 98,
      "outputs": [
        {
          "output_type": "stream",
          "name": "stdout",
          "text": [
            "<class 'pandas.core.frame.DataFrame'>\n",
            "RangeIndex: 21613 entries, 0 to 21612\n",
            "Data columns (total 21 columns):\n",
            " #   Column         Non-Null Count  Dtype  \n",
            "---  ------         --------------  -----  \n",
            " 0   id             21613 non-null  int64  \n",
            " 1   date           21613 non-null  object \n",
            " 2   price          21613 non-null  float64\n",
            " 3   bedrooms       21613 non-null  int64  \n",
            " 4   bathrooms      21613 non-null  float64\n",
            " 5   sqft_living    21613 non-null  int64  \n",
            " 6   sqft_lot       21613 non-null  int64  \n",
            " 7   floors         21613 non-null  float64\n",
            " 8   waterfront     21613 non-null  int64  \n",
            " 9   view           21613 non-null  int64  \n",
            " 10  condition      21613 non-null  int64  \n",
            " 11  grade          21613 non-null  int64  \n",
            " 12  sqft_above     21613 non-null  int64  \n",
            " 13  sqft_basement  21613 non-null  int64  \n",
            " 14  yr_built       21613 non-null  int64  \n",
            " 15  yr_renovated   21613 non-null  int64  \n",
            " 16  zipcode        21613 non-null  int64  \n",
            " 17  lat            21613 non-null  float64\n",
            " 18  long           21613 non-null  float64\n",
            " 19  sqft_living15  21613 non-null  int64  \n",
            " 20  sqft_lot15     21613 non-null  int64  \n",
            "dtypes: float64(5), int64(15), object(1)\n",
            "memory usage: 3.5+ MB\n"
          ]
        }
      ]
    },
    {
      "cell_type": "code",
      "source": [
        "df.describe()"
      ],
      "metadata": {
        "id": "1PNzDJZeqKhe",
        "colab": {
          "base_uri": "https://localhost:8080/",
          "height": 364
        },
        "outputId": "e8091145-97ab-4912-da63-9730b084fa3e"
      },
      "execution_count": 99,
      "outputs": [
        {
          "output_type": "execute_result",
          "data": {
            "text/plain": [
              "                 id         price      bedrooms     bathrooms   sqft_living  \\\n",
              "count  2.161300e+04  2.161300e+04  21613.000000  21613.000000  21613.000000   \n",
              "mean   4.580302e+09  5.400881e+05      3.370842      2.114757   2079.899736   \n",
              "std    2.876566e+09  3.671272e+05      0.930062      0.770163    918.440897   \n",
              "min    1.000102e+06  7.500000e+04      0.000000      0.000000    290.000000   \n",
              "25%    2.123049e+09  3.219500e+05      3.000000      1.750000   1427.000000   \n",
              "50%    3.904930e+09  4.500000e+05      3.000000      2.250000   1910.000000   \n",
              "75%    7.308900e+09  6.450000e+05      4.000000      2.500000   2550.000000   \n",
              "max    9.900000e+09  7.700000e+06     33.000000      8.000000  13540.000000   \n",
              "\n",
              "           sqft_lot        floors    waterfront          view     condition  \\\n",
              "count  2.161300e+04  21613.000000  21613.000000  21613.000000  21613.000000   \n",
              "mean   1.510697e+04      1.494309      0.007542      0.234303      3.409430   \n",
              "std    4.142051e+04      0.539989      0.086517      0.766318      0.650743   \n",
              "min    5.200000e+02      1.000000      0.000000      0.000000      1.000000   \n",
              "25%    5.040000e+03      1.000000      0.000000      0.000000      3.000000   \n",
              "50%    7.618000e+03      1.500000      0.000000      0.000000      3.000000   \n",
              "75%    1.068800e+04      2.000000      0.000000      0.000000      4.000000   \n",
              "max    1.651359e+06      3.500000      1.000000      4.000000      5.000000   \n",
              "\n",
              "              grade    sqft_above  sqft_basement      yr_built  yr_renovated  \\\n",
              "count  21613.000000  21613.000000   21613.000000  21613.000000  21613.000000   \n",
              "mean       7.656873   1788.390691     291.509045   1971.005136     84.402258   \n",
              "std        1.175459    828.090978     442.575043     29.373411    401.679240   \n",
              "min        1.000000    290.000000       0.000000   1900.000000      0.000000   \n",
              "25%        7.000000   1190.000000       0.000000   1951.000000      0.000000   \n",
              "50%        7.000000   1560.000000       0.000000   1975.000000      0.000000   \n",
              "75%        8.000000   2210.000000     560.000000   1997.000000      0.000000   \n",
              "max       13.000000   9410.000000    4820.000000   2015.000000   2015.000000   \n",
              "\n",
              "            zipcode           lat          long  sqft_living15     sqft_lot15  \n",
              "count  21613.000000  21613.000000  21613.000000   21613.000000   21613.000000  \n",
              "mean   98077.939805     47.560053   -122.213896    1986.552492   12768.455652  \n",
              "std       53.505026      0.138564      0.140828     685.391304   27304.179631  \n",
              "min    98001.000000     47.155900   -122.519000     399.000000     651.000000  \n",
              "25%    98033.000000     47.471000   -122.328000    1490.000000    5100.000000  \n",
              "50%    98065.000000     47.571800   -122.230000    1840.000000    7620.000000  \n",
              "75%    98118.000000     47.678000   -122.125000    2360.000000   10083.000000  \n",
              "max    98199.000000     47.777600   -121.315000    6210.000000  871200.000000  "
            ],
            "text/html": [
              "\n",
              "  <div id=\"df-49b71f40-8a5f-42f0-a584-dc48215fd175\">\n",
              "    <div class=\"colab-df-container\">\n",
              "      <div>\n",
              "<style scoped>\n",
              "    .dataframe tbody tr th:only-of-type {\n",
              "        vertical-align: middle;\n",
              "    }\n",
              "\n",
              "    .dataframe tbody tr th {\n",
              "        vertical-align: top;\n",
              "    }\n",
              "\n",
              "    .dataframe thead th {\n",
              "        text-align: right;\n",
              "    }\n",
              "</style>\n",
              "<table border=\"1\" class=\"dataframe\">\n",
              "  <thead>\n",
              "    <tr style=\"text-align: right;\">\n",
              "      <th></th>\n",
              "      <th>id</th>\n",
              "      <th>price</th>\n",
              "      <th>bedrooms</th>\n",
              "      <th>bathrooms</th>\n",
              "      <th>sqft_living</th>\n",
              "      <th>sqft_lot</th>\n",
              "      <th>floors</th>\n",
              "      <th>waterfront</th>\n",
              "      <th>view</th>\n",
              "      <th>condition</th>\n",
              "      <th>grade</th>\n",
              "      <th>sqft_above</th>\n",
              "      <th>sqft_basement</th>\n",
              "      <th>yr_built</th>\n",
              "      <th>yr_renovated</th>\n",
              "      <th>zipcode</th>\n",
              "      <th>lat</th>\n",
              "      <th>long</th>\n",
              "      <th>sqft_living15</th>\n",
              "      <th>sqft_lot15</th>\n",
              "    </tr>\n",
              "  </thead>\n",
              "  <tbody>\n",
              "    <tr>\n",
              "      <th>count</th>\n",
              "      <td>2.161300e+04</td>\n",
              "      <td>2.161300e+04</td>\n",
              "      <td>21613.000000</td>\n",
              "      <td>21613.000000</td>\n",
              "      <td>21613.000000</td>\n",
              "      <td>2.161300e+04</td>\n",
              "      <td>21613.000000</td>\n",
              "      <td>21613.000000</td>\n",
              "      <td>21613.000000</td>\n",
              "      <td>21613.000000</td>\n",
              "      <td>21613.000000</td>\n",
              "      <td>21613.000000</td>\n",
              "      <td>21613.000000</td>\n",
              "      <td>21613.000000</td>\n",
              "      <td>21613.000000</td>\n",
              "      <td>21613.000000</td>\n",
              "      <td>21613.000000</td>\n",
              "      <td>21613.000000</td>\n",
              "      <td>21613.000000</td>\n",
              "      <td>21613.000000</td>\n",
              "    </tr>\n",
              "    <tr>\n",
              "      <th>mean</th>\n",
              "      <td>4.580302e+09</td>\n",
              "      <td>5.400881e+05</td>\n",
              "      <td>3.370842</td>\n",
              "      <td>2.114757</td>\n",
              "      <td>2079.899736</td>\n",
              "      <td>1.510697e+04</td>\n",
              "      <td>1.494309</td>\n",
              "      <td>0.007542</td>\n",
              "      <td>0.234303</td>\n",
              "      <td>3.409430</td>\n",
              "      <td>7.656873</td>\n",
              "      <td>1788.390691</td>\n",
              "      <td>291.509045</td>\n",
              "      <td>1971.005136</td>\n",
              "      <td>84.402258</td>\n",
              "      <td>98077.939805</td>\n",
              "      <td>47.560053</td>\n",
              "      <td>-122.213896</td>\n",
              "      <td>1986.552492</td>\n",
              "      <td>12768.455652</td>\n",
              "    </tr>\n",
              "    <tr>\n",
              "      <th>std</th>\n",
              "      <td>2.876566e+09</td>\n",
              "      <td>3.671272e+05</td>\n",
              "      <td>0.930062</td>\n",
              "      <td>0.770163</td>\n",
              "      <td>918.440897</td>\n",
              "      <td>4.142051e+04</td>\n",
              "      <td>0.539989</td>\n",
              "      <td>0.086517</td>\n",
              "      <td>0.766318</td>\n",
              "      <td>0.650743</td>\n",
              "      <td>1.175459</td>\n",
              "      <td>828.090978</td>\n",
              "      <td>442.575043</td>\n",
              "      <td>29.373411</td>\n",
              "      <td>401.679240</td>\n",
              "      <td>53.505026</td>\n",
              "      <td>0.138564</td>\n",
              "      <td>0.140828</td>\n",
              "      <td>685.391304</td>\n",
              "      <td>27304.179631</td>\n",
              "    </tr>\n",
              "    <tr>\n",
              "      <th>min</th>\n",
              "      <td>1.000102e+06</td>\n",
              "      <td>7.500000e+04</td>\n",
              "      <td>0.000000</td>\n",
              "      <td>0.000000</td>\n",
              "      <td>290.000000</td>\n",
              "      <td>5.200000e+02</td>\n",
              "      <td>1.000000</td>\n",
              "      <td>0.000000</td>\n",
              "      <td>0.000000</td>\n",
              "      <td>1.000000</td>\n",
              "      <td>1.000000</td>\n",
              "      <td>290.000000</td>\n",
              "      <td>0.000000</td>\n",
              "      <td>1900.000000</td>\n",
              "      <td>0.000000</td>\n",
              "      <td>98001.000000</td>\n",
              "      <td>47.155900</td>\n",
              "      <td>-122.519000</td>\n",
              "      <td>399.000000</td>\n",
              "      <td>651.000000</td>\n",
              "    </tr>\n",
              "    <tr>\n",
              "      <th>25%</th>\n",
              "      <td>2.123049e+09</td>\n",
              "      <td>3.219500e+05</td>\n",
              "      <td>3.000000</td>\n",
              "      <td>1.750000</td>\n",
              "      <td>1427.000000</td>\n",
              "      <td>5.040000e+03</td>\n",
              "      <td>1.000000</td>\n",
              "      <td>0.000000</td>\n",
              "      <td>0.000000</td>\n",
              "      <td>3.000000</td>\n",
              "      <td>7.000000</td>\n",
              "      <td>1190.000000</td>\n",
              "      <td>0.000000</td>\n",
              "      <td>1951.000000</td>\n",
              "      <td>0.000000</td>\n",
              "      <td>98033.000000</td>\n",
              "      <td>47.471000</td>\n",
              "      <td>-122.328000</td>\n",
              "      <td>1490.000000</td>\n",
              "      <td>5100.000000</td>\n",
              "    </tr>\n",
              "    <tr>\n",
              "      <th>50%</th>\n",
              "      <td>3.904930e+09</td>\n",
              "      <td>4.500000e+05</td>\n",
              "      <td>3.000000</td>\n",
              "      <td>2.250000</td>\n",
              "      <td>1910.000000</td>\n",
              "      <td>7.618000e+03</td>\n",
              "      <td>1.500000</td>\n",
              "      <td>0.000000</td>\n",
              "      <td>0.000000</td>\n",
              "      <td>3.000000</td>\n",
              "      <td>7.000000</td>\n",
              "      <td>1560.000000</td>\n",
              "      <td>0.000000</td>\n",
              "      <td>1975.000000</td>\n",
              "      <td>0.000000</td>\n",
              "      <td>98065.000000</td>\n",
              "      <td>47.571800</td>\n",
              "      <td>-122.230000</td>\n",
              "      <td>1840.000000</td>\n",
              "      <td>7620.000000</td>\n",
              "    </tr>\n",
              "    <tr>\n",
              "      <th>75%</th>\n",
              "      <td>7.308900e+09</td>\n",
              "      <td>6.450000e+05</td>\n",
              "      <td>4.000000</td>\n",
              "      <td>2.500000</td>\n",
              "      <td>2550.000000</td>\n",
              "      <td>1.068800e+04</td>\n",
              "      <td>2.000000</td>\n",
              "      <td>0.000000</td>\n",
              "      <td>0.000000</td>\n",
              "      <td>4.000000</td>\n",
              "      <td>8.000000</td>\n",
              "      <td>2210.000000</td>\n",
              "      <td>560.000000</td>\n",
              "      <td>1997.000000</td>\n",
              "      <td>0.000000</td>\n",
              "      <td>98118.000000</td>\n",
              "      <td>47.678000</td>\n",
              "      <td>-122.125000</td>\n",
              "      <td>2360.000000</td>\n",
              "      <td>10083.000000</td>\n",
              "    </tr>\n",
              "    <tr>\n",
              "      <th>max</th>\n",
              "      <td>9.900000e+09</td>\n",
              "      <td>7.700000e+06</td>\n",
              "      <td>33.000000</td>\n",
              "      <td>8.000000</td>\n",
              "      <td>13540.000000</td>\n",
              "      <td>1.651359e+06</td>\n",
              "      <td>3.500000</td>\n",
              "      <td>1.000000</td>\n",
              "      <td>4.000000</td>\n",
              "      <td>5.000000</td>\n",
              "      <td>13.000000</td>\n",
              "      <td>9410.000000</td>\n",
              "      <td>4820.000000</td>\n",
              "      <td>2015.000000</td>\n",
              "      <td>2015.000000</td>\n",
              "      <td>98199.000000</td>\n",
              "      <td>47.777600</td>\n",
              "      <td>-121.315000</td>\n",
              "      <td>6210.000000</td>\n",
              "      <td>871200.000000</td>\n",
              "    </tr>\n",
              "  </tbody>\n",
              "</table>\n",
              "</div>\n",
              "      <button class=\"colab-df-convert\" onclick=\"convertToInteractive('df-49b71f40-8a5f-42f0-a584-dc48215fd175')\"\n",
              "              title=\"Convert this dataframe to an interactive table.\"\n",
              "              style=\"display:none;\">\n",
              "        \n",
              "  <svg xmlns=\"http://www.w3.org/2000/svg\" height=\"24px\"viewBox=\"0 0 24 24\"\n",
              "       width=\"24px\">\n",
              "    <path d=\"M0 0h24v24H0V0z\" fill=\"none\"/>\n",
              "    <path d=\"M18.56 5.44l.94 2.06.94-2.06 2.06-.94-2.06-.94-.94-2.06-.94 2.06-2.06.94zm-11 1L8.5 8.5l.94-2.06 2.06-.94-2.06-.94L8.5 2.5l-.94 2.06-2.06.94zm10 10l.94 2.06.94-2.06 2.06-.94-2.06-.94-.94-2.06-.94 2.06-2.06.94z\"/><path d=\"M17.41 7.96l-1.37-1.37c-.4-.4-.92-.59-1.43-.59-.52 0-1.04.2-1.43.59L10.3 9.45l-7.72 7.72c-.78.78-.78 2.05 0 2.83L4 21.41c.39.39.9.59 1.41.59.51 0 1.02-.2 1.41-.59l7.78-7.78 2.81-2.81c.8-.78.8-2.07 0-2.86zM5.41 20L4 18.59l7.72-7.72 1.47 1.35L5.41 20z\"/>\n",
              "  </svg>\n",
              "      </button>\n",
              "      \n",
              "  <style>\n",
              "    .colab-df-container {\n",
              "      display:flex;\n",
              "      flex-wrap:wrap;\n",
              "      gap: 12px;\n",
              "    }\n",
              "\n",
              "    .colab-df-convert {\n",
              "      background-color: #E8F0FE;\n",
              "      border: none;\n",
              "      border-radius: 50%;\n",
              "      cursor: pointer;\n",
              "      display: none;\n",
              "      fill: #1967D2;\n",
              "      height: 32px;\n",
              "      padding: 0 0 0 0;\n",
              "      width: 32px;\n",
              "    }\n",
              "\n",
              "    .colab-df-convert:hover {\n",
              "      background-color: #E2EBFA;\n",
              "      box-shadow: 0px 1px 2px rgba(60, 64, 67, 0.3), 0px 1px 3px 1px rgba(60, 64, 67, 0.15);\n",
              "      fill: #174EA6;\n",
              "    }\n",
              "\n",
              "    [theme=dark] .colab-df-convert {\n",
              "      background-color: #3B4455;\n",
              "      fill: #D2E3FC;\n",
              "    }\n",
              "\n",
              "    [theme=dark] .colab-df-convert:hover {\n",
              "      background-color: #434B5C;\n",
              "      box-shadow: 0px 1px 3px 1px rgba(0, 0, 0, 0.15);\n",
              "      filter: drop-shadow(0px 1px 2px rgba(0, 0, 0, 0.3));\n",
              "      fill: #FFFFFF;\n",
              "    }\n",
              "  </style>\n",
              "\n",
              "      <script>\n",
              "        const buttonEl =\n",
              "          document.querySelector('#df-49b71f40-8a5f-42f0-a584-dc48215fd175 button.colab-df-convert');\n",
              "        buttonEl.style.display =\n",
              "          google.colab.kernel.accessAllowed ? 'block' : 'none';\n",
              "\n",
              "        async function convertToInteractive(key) {\n",
              "          const element = document.querySelector('#df-49b71f40-8a5f-42f0-a584-dc48215fd175');\n",
              "          const dataTable =\n",
              "            await google.colab.kernel.invokeFunction('convertToInteractive',\n",
              "                                                     [key], {});\n",
              "          if (!dataTable) return;\n",
              "\n",
              "          const docLinkHtml = 'Like what you see? Visit the ' +\n",
              "            '<a target=\"_blank\" href=https://colab.research.google.com/notebooks/data_table.ipynb>data table notebook</a>'\n",
              "            + ' to learn more about interactive tables.';\n",
              "          element.innerHTML = '';\n",
              "          dataTable['output_type'] = 'display_data';\n",
              "          await google.colab.output.renderOutput(dataTable, element);\n",
              "          const docLink = document.createElement('div');\n",
              "          docLink.innerHTML = docLinkHtml;\n",
              "          element.appendChild(docLink);\n",
              "        }\n",
              "      </script>\n",
              "    </div>\n",
              "  </div>\n",
              "  "
            ]
          },
          "metadata": {},
          "execution_count": 99
        }
      ]
    },
    {
      "cell_type": "code",
      "source": [
        "df.drop('id', axis = 1, inplace = True)\n",
        "df.drop('date', axis = 1, inplace = True)\n",
        "df.drop('zipcode', axis = 1, inplace = True)\n",
        "df.drop('lat', axis = 1, inplace = True)\n",
        "df.drop('long', axis = 1, inplace = True)\n"
      ],
      "metadata": {
        "id": "0KUD8T08qMmq"
      },
      "execution_count": 100,
      "outputs": []
    },
    {
      "cell_type": "code",
      "source": [
        "plt.figure(figsize=(12,8)) \n",
        "sns.heatmap(df.corr(), annot=True, cmap='Dark2_r', linewidths = 2)\n",
        "plt.show()"
      ],
      "metadata": {
        "id": "r-jk_nHmqKpp",
        "colab": {
          "base_uri": "https://localhost:8080/",
          "height": 525
        },
        "outputId": "6a1143a0-85fa-4c32-c126-dc9295c3894c"
      },
      "execution_count": 101,
      "outputs": [
        {
          "output_type": "display_data",
          "data": {
            "text/plain": [
              "<Figure size 864x576 with 2 Axes>"
            ],
            "image/png": "[encoded data removed]"
          },
          "metadata": {
            "needs_background": "light"
          }
        }
      ]
    },
    {
      "cell_type": "code",
      "source": [
        "columns = df.columns.drop('price')\n",
        "\n",
        "features = columns\n",
        "label = ['price']\n",
        "\n",
        "X = df[features]\n",
        "y = df[label]"
      ],
      "metadata": {
        "id": "p4zqCnFwq7Oc"
      },
      "execution_count": 102,
      "outputs": []
    },
    {
      "cell_type": "code",
      "source": [
        "from sklearn.model_selection import train_test_split\n",
        "X_train, X_test, y_train, y_test = train_test_split(X, y, test_size = 0.1, random_state = 101)\n",
        "\n",
        "print(f'Numero total de registros en la bdd: {len(X)}')\n",
        "print(\"*****\"*10)\n",
        "print(f'Numero total de registros en el training set: {len(X_train)}')\n",
        "print(f'Tamaño de X_train: {X_train.shape}')\n",
        "print(\"*****\"*10)\n",
        "print(f'Mumero total de registros en el test dataset: {len(X_test)}')\n",
        "print(f'Tamaño del X_test: {X_test.shape}')"
      ],
      "metadata": {
        "id": "p91PEVPLq93-",
        "colab": {
          "base_uri": "https://localhost:8080/",
          "height": 0
        },
        "outputId": "9326b3b1-509c-41de-ce95-37eec398eb83"
      },
      "execution_count": 103,
      "outputs": [
        {
          "output_type": "stream",
          "name": "stdout",
          "text": [
            "Numero total de registros en la bdd: 21613\n",
            "**************************************************\n",
            "Numero total de registros en el training set: 19451\n",
            "Tamaño de X_train: (19451, 15)\n",
            "**************************************************\n",
            "Mumero total de registros en el test dataset: 2162\n",
            "Tamaño del X_test: (2162, 15)\n"
          ]
        }
      ]
    },
    {
      "cell_type": "code",
      "source": [
        "#tu codigo aquí"
      ],
      "metadata": {
        "id": "0faHrN8-rv9V"
      },
      "execution_count": 104,
      "outputs": []
    },
    {
      "cell_type": "code",
      "source": [
        "plt.plot(X_train,y_train,'b.')\n",
        "plt.show()"
      ],
      "metadata": {
        "colab": {
          "base_uri": "https://localhost:8080/",
          "height": 289
        },
        "id": "sF5KF5Jj20-Q",
        "outputId": "8ee1d995-5f7c-40d1-c382-d96350733d22"
      },
      "execution_count": 105,
      "outputs": [
        {
          "output_type": "display_data",
          "data": {
            "text/plain": [
              "<Figure size 432x288 with 1 Axes>"
            ],
            "image/png": "[encoded data removed]"
          },
          "metadata": {
            "needs_background": "light"
          }
        }
      ]
    },
    {
      "cell_type": "code",
      "source": [
        "linear_reg = LinearRegression(fit_intercept=True)\n",
        "linear_reg.fit(X_train, y_train)"
      ],
      "metadata": {
        "colab": {
          "base_uri": "https://localhost:8080/",
          "height": 0
        },
        "id": "cNWXDx9w22zu",
        "outputId": "37a16350-2976-4930-d726-24402978c379"
      },
      "execution_count": 106,
      "outputs": [
        {
          "output_type": "execute_result",
          "data": {
            "text/plain": [
              "LinearRegression()"
            ]
          },
          "metadata": {},
          "execution_count": 106
        }
      ]
    },
    {
      "cell_type": "code",
      "source": [
        "linear_reg.coef_,"
      ],
      "metadata": {
        "colab": {
          "base_uri": "https://localhost:8080/",
          "height": 0
        },
        "id": "P5SxZV-W24o1",
        "outputId": "5ff898b2-ea62-4329-d2b3-174260c78406"
      },
      "execution_count": 107,
      "outputs": [
        {
          "output_type": "execute_result",
          "data": {
            "text/plain": [
              "(array([[-3.82008048e+04,  4.14661380e+04,  1.07992584e+02,\n",
              "          1.71356997e-02,  3.16916913e+04,  5.52691023e+05,\n",
              "          4.12493228e+04,  2.12221443e+04,  1.19493216e+05,\n",
              "          4.77750271e+01,  6.02175565e+01, -3.55090216e+03,\n",
              "          1.32602215e+01,  2.90059284e+01, -5.48132603e-01]]),)"
            ]
          },
          "metadata": {},
          "execution_count": 107
        }
      ]
    },
    {
      "cell_type": "code",
      "source": [
        "linear_reg.intercept_\n"
      ],
      "metadata": {
        "colab": {
          "base_uri": "https://localhost:8080/",
          "height": 0
        },
        "id": "cKdolUsH25iL",
        "outputId": "4a8843a5-5db4-441c-f8c6-09ab7a1af91b"
      },
      "execution_count": 108,
      "outputs": [
        {
          "output_type": "execute_result",
          "data": {
            "text/plain": [
              "array([6151359.2627409])"
            ]
          },
          "metadata": {},
          "execution_count": 108
        }
      ]
    },
    {
      "cell_type": "code",
      "source": [
        "y_pred = linear_reg.predict(X_train)\n",
        "from sklearn import metrics\n",
        "from sklearn.metrics import r2_score\n",
        "linear_Mae_train=metrics.mean_absolute_error(y_train,y_pred)\n",
        "linear_r2_train=r2_score(y_train,y_pred)\n",
        "print('Error medio Absoluto (MAE):', metrics.mean_absolute_error(y_train, y_pred))\n",
        "print('Root Mean Squared Error:', np.sqrt(metrics.mean_squared_error(y_train, y_pred)))\n",
        "print('r2_score', r2_score(y_train, y_pred))"
      ],
      "metadata": {
        "colab": {
          "base_uri": "https://localhost:8080/",
          "height": 0
        },
        "id": "_g5tPEOs2784",
        "outputId": "62a50875-3efb-417a-c640-b30d07c12b85"
      },
      "execution_count": 109,
      "outputs": [
        {
          "output_type": "stream",
          "name": "stdout",
          "text": [
            "Error medio Absoluto (MAE): 139269.32939115583\n",
            "Root Mean Squared Error: 214234.8822754647\n",
            "r2_score 0.6529196653133833\n"
          ]
        }
      ]
    },
    {
      "cell_type": "code",
      "source": [
        "y_pred = linear_reg.predict(X_test)\n",
        "from sklearn import metrics\n",
        "from sklearn.metrics import r2_score\n",
        "linear_Mae=metrics.mean_absolute_error(y_test,y_pred)\n",
        "linear_r2=r2_score(y_test,y_pred)\n",
        "print('Error medio Absoluto (MAE):', metrics.mean_absolute_error(y_test, y_pred))\n",
        "print('Root Mean Squared Error:', np.sqrt(metrics.mean_squared_error(y_test, y_pred)))\n",
        "print('r2_score', r2_score(y_test, y_pred))"
      ],
      "metadata": {
        "colab": {
          "base_uri": "https://localhost:8080/",
          "height": 0
        },
        "id": "4Utl_6U429kf",
        "outputId": "cc4722b3-5f65-4530-8077-91e97a63f335"
      },
      "execution_count": 110,
      "outputs": [
        {
          "output_type": "stream",
          "name": "stdout",
          "text": [
            "Error medio Absoluto (MAE): 137480.1388273178\n",
            "Root Mean Squared Error: 232133.3676240749\n",
            "r2_score 0.6579723205007814\n"
          ]
        }
      ]
    },
    {
      "cell_type": "code",
      "source": [
        "from sklearn.preprocessing import PolynomialFeatures\n",
        "\n",
        "poly_transform = PolynomialFeatures(degree=3, include_bias = False)\n",
        "polyX = poly_transform.fit_transform(X_train)\n",
        "polyX"
      ],
      "metadata": {
        "colab": {
          "base_uri": "https://localhost:8080/",
          "height": 0
        },
        "id": "y4L49w283A-z",
        "outputId": "109c38d5-ed80-4cfa-e7ef-d3100f9334d8"
      },
      "execution_count": 111,
      "outputs": [
        {
          "output_type": "execute_result",
          "data": {
            "text/plain": [
              "array([[5.00000000e+00, 2.75000000e+00, 3.75000000e+03, ...,\n",
              "        7.06230720e+10, 1.64221278e+11, 3.81867106e+11],\n",
              "       [4.00000000e+00, 4.50000000e+00, 5.25000000e+03, ...,\n",
              "        3.02200000e+11, 5.84478976e+12, 1.13042910e+14],\n",
              "       [3.00000000e+00, 2.50000000e+00, 2.88000000e+03, ...,\n",
              "        9.21194624e+10, 3.27210820e+11, 1.16226168e+12],\n",
              "       ...,\n",
              "       [3.00000000e+00, 2.25000000e+00, 1.78000000e+03, ...,\n",
              "        1.73857625e+10, 8.77923438e+10, 4.43322266e+11],\n",
              "       [2.00000000e+00, 1.00000000e+00, 1.15000000e+03, ...,\n",
              "        9.24639408e+09, 2.73030912e+10, 8.06215680e+10],\n",
              "       [3.00000000e+00, 1.00000000e+00, 1.45000000e+03, ...,\n",
              "        8.37158400e+09, 6.23039040e+10, 4.63684824e+11]])"
            ]
          },
          "metadata": {},
          "execution_count": 111
        }
      ]
    },
    {
      "cell_type": "code",
      "source": [
        "poly_regression = LinearRegression(fit_intercept=True)\n",
        "poly_regression.fit(polyX, y_train)\n",
        "poly_regression.intercept_"
      ],
      "metadata": {
        "colab": {
          "base_uri": "https://localhost:8080/",
          "height": 0
        },
        "id": "Aj_r-xEO3DFl",
        "outputId": "f20b1734-de7e-46f3-d066-c29dfc8d06fe"
      },
      "execution_count": 112,
      "outputs": [
        {
          "output_type": "execute_result",
          "data": {
            "text/plain": [
              "array([19759145.24258333])"
            ]
          },
          "metadata": {},
          "execution_count": 112
        }
      ]
    },
    {
      "cell_type": "code",
      "source": [
        "poly_regression.coef_\n"
      ],
      "metadata": {
        "colab": {
          "base_uri": "https://localhost:8080/",
          "height": 0
        },
        "id": "JIH48kgy3Eha",
        "outputId": "93ddaa68-a5bd-4393-b7e3-24ede0a86fb4"
      },
      "execution_count": 113,
      "outputs": [
        {
          "output_type": "execute_result",
          "data": {
            "text/plain": [
              "array([[ 3.17395792e+02, -2.70130239e+02,  1.30610945e+01,\n",
              "        -1.40757708e+01,  2.62496809e+00,  3.24633595e+00,\n",
              "        -8.08938960e-01,  3.60826046e-01, -6.17577143e-01,\n",
              "         1.54124566e-01,  9.07922470e-01, -2.42302232e-01,\n",
              "         1.57944629e-01, -4.12303248e-01, -1.89494993e+01,\n",
              "         2.57497810e-01,  3.31180922e-01,  2.56156276e+01,\n",
              "        -9.51793255e-02, -6.36531339e-01,  6.24165339e-01,\n",
              "        -6.14143248e-02,  9.57006257e-01,  1.21507890e+00,\n",
              "         1.85183285e+01,  7.24785462e+00,  3.94289500e+02,\n",
              "         4.24069045e+00,  5.07845227e+00, -1.89095034e+01,\n",
              "        -4.03258004e-01, -2.08156624e+02, -6.15751437e+01,\n",
              "        -4.82898236e-01, -6.40532068e-02, -8.73845428e-02,\n",
              "        -1.73829295e-01, -5.97615346e-01, -1.69018199e+02,\n",
              "        -3.91260224e+01, -1.76779529e+02, -4.47565136e+00,\n",
              "        -1.70541213e+02,  1.09037853e+02, -3.48181375e-01,\n",
              "         5.54961266e-03, -3.10542727e+02, -2.04577118e+01,\n",
              "        -5.10909707e+01,  1.44081886e+02,  1.11581166e+02,\n",
              "         2.16670060e-01, -5.64909219e-01, -1.27410167e-01,\n",
              "        -1.12568260e-01,  1.58018890e+00, -3.54328039e-02,\n",
              "         4.38742488e-05,  6.16058584e+01, -2.69898947e+01,\n",
              "         1.91781121e+01,  1.20426825e+01,  1.31650265e+01,\n",
              "         9.34375304e-03, -3.73525411e-03, -1.04398912e-01,\n",
              "         1.38884709e-02,  3.01381870e-02,  6.78520767e-05,\n",
              "        -5.34102837e-01, -5.78470986e-02, -1.13822284e-01,\n",
              "        -4.03570695e-01, -1.05966620e+00, -2.67524020e+02,\n",
              "        -4.30187377e+01, -2.93222557e+02, -3.35793147e+00,\n",
              "        -2.91958127e+02, -9.76415380e+01, -1.57122761e-02,\n",
              "        -1.68119414e-01, -1.13491517e-01, -1.64619588e-01,\n",
              "        -1.74203932e+01, -3.03731175e+00, -1.52993218e+01,\n",
              "         2.89521925e-01, -1.93075606e+01, -1.08573905e+02,\n",
              "        -1.08424368e-01, -7.86651310e-02, -1.31888702e-01,\n",
              "        -4.03527763e+01, -1.07382336e+01, -4.51049163e+01,\n",
              "        -3.19195216e+00, -5.69571664e+01, -2.42072671e+01,\n",
              "         5.39400863e-01,  6.90456940e-01,  1.18106862e+02,\n",
              "         2.59750399e+01,  1.42884610e+02, -1.84020119e+00,\n",
              "         1.37140757e+02,  4.79912276e+00,  7.61197307e-01,\n",
              "         8.82755148e+01,  2.33056421e+01,  9.42517326e+01,\n",
              "         7.84046146e-01,  9.95172836e+01, -1.51103170e+01,\n",
              "        -2.02758252e+00,  2.24427261e+00,  9.40121740e-01,\n",
              "        -1.85322322e+00,  1.45017708e+00, -1.97077053e-03,\n",
              "        -2.80914700e+00, -1.06751495e+00,  1.74066651e+00,\n",
              "         1.30002356e-01, -3.34363391e-02, -1.65748055e+01,\n",
              "         4.33882740e+01,  1.57874743e+00,  2.34932788e-02,\n",
              "        -4.25386312e+01, -4.37936627e-01,  8.20919268e-02,\n",
              "        -1.48254749e+00,  6.97841641e-03,  3.89241075e-04,\n",
              "         1.29106646e+02, -7.16509286e-01,  4.15395793e+00,\n",
              "         2.29637081e-01,  4.75102521e-01, -7.01819595e-01,\n",
              "        -1.06920772e+00,  7.56507260e+00,  2.69567648e+00,\n",
              "        -4.22023433e+00,  8.37419219e+00, -6.85156850e+00,\n",
              "         3.79756814e+00,  3.61539631e-01,  1.60344901e-02,\n",
              "        -1.34799509e+00,  2.13243059e+00, -6.39846626e-01,\n",
              "        -1.28598317e+00, -1.03087982e-01,  1.41973419e-01,\n",
              "         4.08102711e-01, -1.10957527e-01, -8.95127159e+00,\n",
              "         1.10837021e+01, -2.37618609e+01, -1.72495794e+01,\n",
              "         3.64892153e+01,  5.39841200e-01, -5.29031580e-03,\n",
              "         5.17471543e-06, -1.82434474e+01,  2.48592345e+01,\n",
              "         9.70652876e+00, -2.58285326e+00, -1.18894778e+00,\n",
              "         1.25486887e-02, -1.78456991e-02,  1.38371287e-02,\n",
              "        -3.16366807e-03, -2.76695021e-02, -3.29956251e-04,\n",
              "         2.69713922e-07,  2.68861634e-02, -1.26045363e+00,\n",
              "        -4.18980491e-01, -4.03773592e-01,  3.84495844e-01,\n",
              "         1.00009887e-04,  1.72947060e-04, -4.46077509e-04,\n",
              "        -2.66607598e-04, -5.94941557e-04,  3.24147493e-06,\n",
              "        -2.49302358e+00, -1.55857429e-01, -7.95747451e-01,\n",
              "         1.24820294e+00, -6.92302224e-01,  9.99272306e+01,\n",
              "        -1.18170678e+02, -1.80234841e+01,  1.24341160e+01,\n",
              "        -3.70454114e+01, -3.05722749e-01, -9.04086603e-02,\n",
              "        -5.54890277e-01, -3.59312692e-01, -6.56997578e-01,\n",
              "         1.12996769e+02, -8.81375345e+01, -1.38295581e+02,\n",
              "         8.41445143e+01, -1.22832637e+02,  1.06470389e+01,\n",
              "        -5.84909805e-01,  1.47878446e+00,  6.55293735e-02,\n",
              "         6.31688822e+00,  3.38964053e+00, -1.49911162e-01,\n",
              "         1.23410332e+00, -1.84879607e+01,  4.21295051e-01,\n",
              "         2.45723093e+00,  9.90569038e-01,  2.15124127e+01,\n",
              "        -2.40952660e+01, -1.15695968e+01, -3.13201438e+01,\n",
              "         5.90213583e+00,  3.09699217e-01, -3.88409775e-02,\n",
              "        -7.99214707e+00,  6.80319927e+00,  2.45000153e+01,\n",
              "         3.67706825e+01, -1.67485536e+01, -4.06624858e-01,\n",
              "         1.14757304e-02,  1.09266872e-03, -5.96769381e-02,\n",
              "        -1.95002819e-02, -2.81401540e-02, -2.94626129e-04,\n",
              "        -1.89352314e-02,  7.35075788e-02,  1.63374584e-02,\n",
              "         4.72825090e-04, -2.84364091e-04, -2.06261496e-01,\n",
              "         7.03779070e-01, -2.20908745e-02,  1.01743906e-02,\n",
              "        -7.37616533e-01, -3.05428264e-02,  1.98429300e-04,\n",
              "         5.61092921e-02,  1.07510547e-03, -6.21875575e-06,\n",
              "        -1.45227271e+00, -1.50402720e+01,  4.38941293e-01,\n",
              "        -8.57029035e-01, -2.82844361e-01, -6.23263138e-01,\n",
              "        -9.51509340e-01,  8.44226113e-01,  1.46131191e+01,\n",
              "        -2.96533911e+01,  2.44930141e+01,  4.37018048e+01,\n",
              "        -2.32234541e+01,  3.01150805e-02,  7.16276634e-03,\n",
              "         2.66921952e-04,  1.63637824e+01,  8.64544575e+00,\n",
              "        -7.62589311e+00, -1.73031199e+01,  4.66732372e-01,\n",
              "        -1.44705438e-02,  2.16317524e-02,  1.47635930e-01,\n",
              "         1.69065736e-04,  2.48865022e-02, -8.63550868e-04,\n",
              "        -1.25196244e-06,  1.32670771e-01,  1.46460209e+01,\n",
              "         7.90605601e-01,  5.21564376e-01, -1.50188397e+00,\n",
              "         6.69195364e-04, -4.21705140e-04,  3.42821759e-02,\n",
              "        -2.60826466e-04,  7.74301563e-04,  3.42603757e-06,\n",
              "        -5.18806542e-01, -3.62736394e-01, -3.75937935e-01,\n",
              "        -9.68662133e-01, -2.91534826e-01, -2.38316465e+01,\n",
              "         4.01954289e+01, -3.52413893e+01, -4.34339663e+01,\n",
              "         2.19108836e+01, -8.29622275e-01, -6.40296452e-02,\n",
              "        -3.46698619e-01, -2.08141474e-01, -5.42973196e-01,\n",
              "        -1.80222051e+02,  1.88867496e+02, -9.25135211e+01,\n",
              "         1.04133954e+02,  7.54682489e+01, -1.21674559e+00,\n",
              "        -6.56769667e-01,  2.39971956e-01, -1.34146108e-01,\n",
              "        -1.53732288e+01,  7.74733564e+00, -4.31467113e+00,\n",
              "        -4.75471192e+00,  2.75402168e+01, -9.21712475e-01,\n",
              "         3.00836977e-01,  1.14137571e-01, -1.05184700e+01,\n",
              "        -6.78464992e+00, -1.84413585e+00,  6.94897334e+00,\n",
              "         3.64400667e+01, -1.42405322e+00, -2.15051706e+00,\n",
              "         3.69261608e+01, -3.64594285e+01, -2.97260222e+01,\n",
              "        -4.85093599e+01,  6.83687484e+00,  1.27722762e+00,\n",
              "        -2.84662395e-02,  1.40199152e-02,  4.16508827e-02,\n",
              "        -1.59705452e-02, -1.32942168e-02, -5.23843603e-04,\n",
              "         7.61246197e-03,  1.05979764e-01,  1.61383753e-02,\n",
              "         3.81807737e-02, -4.42915234e-04,  1.98033501e-01,\n",
              "         1.60207529e-01, -2.11904257e-02, -5.73440692e-02,\n",
              "        -2.51331108e-03, -3.42451138e-03,  7.07283993e-04,\n",
              "        -2.53785761e-02,  2.88473235e-04,  3.36430025e-06,\n",
              "         3.59283801e-03, -1.84543837e-03,  3.51393591e-02,\n",
              "        -1.56488409e-02, -7.36802083e-03,  2.72790437e-02,\n",
              "        -9.74584664e-03,  5.31436971e-03, -2.89783411e-03,\n",
              "         1.88096217e-03,  9.77756527e-05, -1.47386872e-03,\n",
              "        -3.14929070e-02, -1.18564729e+00,  6.39139907e-05,\n",
              "         7.62966605e-04,  1.18795819e-04,  3.60996606e-04,\n",
              "        -7.04687865e-05, -2.55131381e-02,  2.61641961e-02,\n",
              "        -8.38328870e-03,  4.37721589e-05, -6.76226852e-03,\n",
              "         1.96909848e-01, -3.74988590e+01, -1.25772996e+02,\n",
              "         9.85844849e+00, -1.74191333e+01, -2.17969135e+01,\n",
              "        -3.87553188e-02,  7.39008980e-02,  3.81014000e-01,\n",
              "        -2.81996898e-02, -7.59491930e-02,  2.28709969e-04,\n",
              "        -2.04577060e+01, -2.96410265e+01, -3.02065616e+00,\n",
              "        -2.47155910e+01, -2.63004119e-03, -1.30188019e-02,\n",
              "         6.07366938e-01, -2.12979332e-02, -7.32270956e-02,\n",
              "        -3.32121052e-03,  4.31279090e+00,  1.15926026e+01,\n",
              "        -2.45855576e-01,  2.93857622e-03, -1.03026069e-02,\n",
              "        -1.48711871e-02, -6.90015638e-04,  1.53016556e-02,\n",
              "        -4.23944850e-05,  7.03912510e+00, -5.55238707e+00,\n",
              "         1.46594362e-02,  1.26188617e-02, -5.48376436e-02,\n",
              "         4.32976387e-02, -3.59796803e-02,  7.78085738e-06,\n",
              "         1.19083107e+01, -1.69935336e-02,  7.16494952e-03,\n",
              "        -9.25624119e-02, -1.56590397e-02,  1.07752061e-02,\n",
              "        -2.92264998e-04, -1.41674597e-02, -3.67190082e-03,\n",
              "        -9.63817036e-04, -1.28842069e-04, -3.07455821e-03,\n",
              "         5.76043085e-02, -2.59163770e-03, -1.11586897e-03,\n",
              "        -8.40278852e-05,  2.19554870e-03,  1.20956853e-02,\n",
              "         1.22902845e-03, -8.26028056e-04, -7.99929450e-04,\n",
              "         3.76727902e-03,  8.14910046e-04,  1.06110550e-04,\n",
              "        -1.52576157e-04, -1.79990905e-03,  1.13170795e-02,\n",
              "        -7.21893263e-04,  1.56319402e-12,  6.28492668e-07,\n",
              "         1.43752817e-05,  4.55802656e-07,  7.88525817e-07,\n",
              "         5.98612587e-07,  1.18564729e+00,  1.18564729e+00,\n",
              "        -2.66691678e-08, -1.51686486e-09,  1.43636747e-09,\n",
              "        -1.06012976e-11, -2.18140647e+00,  1.80461936e+00,\n",
              "        -3.43976752e-01, -1.86994897e-01,  6.55163812e-01,\n",
              "         9.42837441e-04, -9.42457290e-04, -3.23406635e-02,\n",
              "         2.49112696e-04,  9.75376495e-04,  7.03160766e-07,\n",
              "        -2.69899072e+01,  5.54829858e+00, -1.07369914e+01,\n",
              "         2.93981158e+00, -1.28206764e-03,  2.04488923e-03,\n",
              "        -4.97838618e-03, -4.43845228e-03,  3.95130727e-03,\n",
              "         3.81637757e-04, -2.66153406e-01, -1.43284649e-01,\n",
              "        -1.06445616e-02, -1.88013074e-04,  3.02764317e-04,\n",
              "        -9.35720099e-03, -9.52296325e-04,  4.25360700e-05,\n",
              "         1.73309474e-06, -7.23982842e-03, -5.22633604e-01,\n",
              "         5.01100257e-04, -1.13217134e-04, -4.96230936e-03,\n",
              "        -9.12900757e-04,  2.36211990e-04, -1.66912536e-06,\n",
              "         4.10504239e-01, -2.61569857e-04,  4.21009295e-04,\n",
              "        -8.37562992e-03, -6.97448634e-05, -1.30724275e-04,\n",
              "         3.13172729e-06,  2.73582114e-02,  3.03931892e-03,\n",
              "         8.37552891e-03, -4.42483050e-05,  6.76165926e-03,\n",
              "        -1.96909853e-01, -2.43185437e-02,  8.38261894e-03,\n",
              "        -4.24387279e-05,  6.76149902e-03, -1.96909850e-01,\n",
              "         5.95765576e-05,  4.17972437e-05, -1.70540308e-05,\n",
              "        -3.76509171e-08, -4.37969719e-05, -1.55191986e-06,\n",
              "         2.01351087e-08,  7.75584653e-07,  2.34146924e-10,\n",
              "        -3.05533376e-11,  2.68755049e-01, -7.25118493e-02,\n",
              "         6.79437956e-01, -1.12171144e+00, -5.09293001e-01,\n",
              "         7.52892733e+01, -1.12788132e+02, -7.09533359e+01,\n",
              "        -8.81914932e+00,  8.93412573e+01, -1.46832270e-01,\n",
              "        -5.78488049e-02, -1.49004060e-01, -1.95330837e-01,\n",
              "        -4.34654331e-01, -1.43073943e+00, -1.24342257e+02,\n",
              "        -8.87112714e+01,  3.25160687e+01,  1.24848922e+01,\n",
              "         1.15373949e+01,  1.74841287e-01, -2.46036922e-01,\n",
              "        -4.67870640e-01,  8.29039979e+01, -7.30455494e+01,\n",
              "        -7.05336575e+01,  3.18346793e+01, -8.80748478e+00,\n",
              "         5.50003064e-02,  4.39961403e-03,  5.29724222e-02,\n",
              "         5.82422296e+01, -7.56613629e+01, -4.49601654e+00,\n",
              "        -6.18485344e+01, -1.09929597e+01,  2.18344980e-01,\n",
              "        -1.44378877e+00, -6.94795800e+01,  4.76826664e+01,\n",
              "         1.32718828e+01, -4.29775822e-01,  6.39028060e+01,\n",
              "        -2.55128016e-01, -1.09211208e-02, -2.78394016e-02,\n",
              "         1.40554974e-02, -1.77758749e-02,  5.37287138e-02,\n",
              "         1.43736533e-04,  1.01741320e-01,  3.66956193e-01,\n",
              "        -1.04239339e-02, -1.29680845e-01,  1.12743669e-04,\n",
              "         2.14438570e-01, -1.06553043e-01, -2.58109659e-02,\n",
              "         5.13978189e-02,  3.16111165e-01, -4.22932681e-02,\n",
              "         2.92504892e-03, -5.65068282e-02, -4.42405736e-04,\n",
              "        -5.27287605e-07, -1.57104967e-02, -1.68118254e-01,\n",
              "        -1.13493700e-01, -1.64617238e-01, -1.74203935e+01,\n",
              "        -3.03731255e+00, -1.52993229e+01,  2.89522699e-01,\n",
              "        -1.93075602e+01, -1.08573908e+02, -6.93650227e-01,\n",
              "        -1.19479841e+00, -1.14163326e+00,  2.48304145e+02,\n",
              "        -2.77945171e+02, -2.61408481e+02, -1.37394239e+02,\n",
              "         3.40817499e+00,  6.38013960e+00, -5.03329408e-01,\n",
              "        -3.48305669e-01, -9.48674950e+00,  6.46609334e+00,\n",
              "        -1.63718948e+02,  8.00929432e+01,  1.27317612e+02,\n",
              "         1.22873706e+01, -1.16579215e+00,  9.14388072e+01,\n",
              "        -1.16154398e+02, -1.98296674e+02, -1.34421850e+02,\n",
              "         7.91772836e+01, -4.88626598e+00, -3.63568345e-02,\n",
              "         3.37268058e-02, -6.37509651e-01,  6.59388664e-02,\n",
              "         8.27740497e-02, -9.57908560e-03, -4.67456104e-02,\n",
              "         1.24487659e+00, -8.72368049e-02, -1.56001142e-01,\n",
              "         6.25797347e-03,  1.47927098e+00, -3.42394083e+00,\n",
              "        -1.63280413e-01,  6.92835904e-02,  3.85056321e+00,\n",
              "        -3.61221510e-02, -5.51483282e-03, -1.15578496e-01,\n",
              "         1.10086886e-02,  1.50008209e-05,  4.54070134e-01,\n",
              "        -2.44457033e+00, -1.00519157e+00, -2.00885393e+00,\n",
              "         6.32164483e+00, -1.26392414e-01,  4.39471527e+00,\n",
              "        -4.09385406e-01,  2.59171994e-01, -1.61502467e-01,\n",
              "         1.41658957e+00,  1.57664036e+01, -4.17380104e+00,\n",
              "        -8.43096327e+00, -1.89620838e+01, -1.68180224e+01,\n",
              "         3.20455413e-01, -8.70956241e-01, -1.32718235e+00,\n",
              "         1.08132677e+00,  1.57202151e+01, -1.54890768e+00,\n",
              "        -7.18607679e+00,  3.46714427e-03, -1.50945112e-02,\n",
              "         1.80302402e-02, -4.20327046e-02, -2.37774971e-02,\n",
              "         2.53359185e-03,  4.81332248e-04, -2.83331543e-02,\n",
              "         2.71623330e-02,  2.30876937e-02,  1.27679386e-02,\n",
              "        -5.13280151e-04,  5.78976846e-02,  6.88571639e-01,\n",
              "         5.91282483e-02,  1.21094057e-02, -6.20814960e-01,\n",
              "        -2.02957147e-02,  9.98421113e-04,  4.14110214e-03,\n",
              "        -3.97032219e-04, -3.74076566e-06,  2.44302779e+00,\n",
              "        -4.11706841e-01,  6.48602638e+00,  5.53098732e-01,\n",
              "         3.15429808e+00, -8.13511641e+01, -1.60550182e+01,\n",
              "        -4.08803989e-02,  6.75062796e-01, -1.12868923e+01,\n",
              "         5.73450524e+00,  2.97836014e+00, -1.24035844e+01,\n",
              "         8.55907440e+00,  9.14003901e-01, -4.56271014e-02,\n",
              "         6.02815768e-02, -9.68985296e-02,  2.42740534e-02,\n",
              "         8.88306066e-03,  2.17226633e-05, -4.76615165e-02,\n",
              "         4.20572757e-02,  1.90238204e-02, -4.48647075e-02,\n",
              "        -7.40493560e-05, -8.37915721e-02, -4.02191870e-01,\n",
              "        -6.96606069e-02, -3.26187220e-03,  7.96631254e-01,\n",
              "        -2.38502696e-02,  2.64611349e-04,  3.05449387e-02,\n",
              "        -1.28392056e-03, -2.58029153e-06, -6.51035957e+00,\n",
              "         4.33247110e+00,  7.57583963e+00,  2.05400166e+00,\n",
              "         1.81580413e-01, -1.59666958e+01, -2.70606123e-01,\n",
              "         6.44973276e-03, -2.34108211e-02,  2.54178730e-02,\n",
              "         6.69852179e-03, -2.13896691e-02,  8.72879033e-05,\n",
              "         3.05783032e-02, -1.17980814e-01, -2.23585251e-02,\n",
              "         3.21823186e-02, -3.15069971e-04, -7.62892903e-02,\n",
              "         4.54886433e-02, -2.20435019e-02,  6.94872595e-03,\n",
              "        -5.03128858e-02,  3.89528412e-02,  8.03320893e-05,\n",
              "         1.72347306e-02,  4.78859480e-04,  1.40078675e-06,\n",
              "         5.26912617e-03, -6.25908363e-04,  1.63856457e-04,\n",
              "         5.81114324e-05,  4.61376278e-03, -2.61106795e-02,\n",
              "        -4.14331918e-03, -2.56126508e-03,  5.41679594e-05,\n",
              "         3.93859867e-03, -6.71368049e-03, -1.81123271e-03,\n",
              "        -3.15288435e-04, -5.13667584e-04, -3.74704535e-03,\n",
              "         1.19793070e-03, -3.69267847e-05,  1.51360414e-04,\n",
              "         1.72833542e-03, -1.13173783e-02,  7.21899744e-04,\n",
              "         1.98690809e-03,  9.98044581e-04,  3.50368542e-06,\n",
              "        -7.99844642e-04,  1.93984379e-02, -7.26814093e-04,\n",
              "        -7.21344526e-04,  1.53503423e-04, -3.73151278e-03,\n",
              "        -1.79164423e-04, -6.17807233e-05,  1.51716408e-04,\n",
              "         1.70905097e-03, -1.13160810e-02,  7.21905751e-04,\n",
              "         5.88194588e-03, -1.16677311e-02, -7.60362192e-04,\n",
              "        -6.79225045e-06,  1.42920988e-03,  1.16093701e-04,\n",
              "        -5.08326429e-05,  6.77824183e-04, -1.95787374e-06,\n",
              "        -1.88391878e-07,  9.40313981e-03,  5.20258503e-05,\n",
              "         5.23455311e-06, -1.13821847e-05,  5.18239567e-07,\n",
              "        -1.28929738e-08,  1.22511760e-05, -7.83032817e-07,\n",
              "        -7.37585815e-09, -4.67537120e-12]])"
            ]
          },
          "metadata": {},
          "execution_count": 113
        }
      ]
    },
    {
      "cell_type": "code",
      "source": [
        "polyX = poly_transform.fit_transform(X_train)\n",
        "\n",
        "y_pred = poly_regression.predict(polyX)\n",
        "from sklearn import metrics\n",
        "from sklearn.metrics import r2_score\n",
        "Poly_Mae_train=metrics.mean_absolute_error(y_train,y_pred)\n",
        "Poly_r2_train=r2_score(y_train,y_pred)\n",
        "print('Error medio Absoluto (MAE):', metrics.mean_absolute_error(y_train, y_pred))\n",
        "print('Root Mean Squared Error:', np.sqrt(metrics.mean_squared_error(y_train, y_pred)))\n",
        "print('r2_score',r2_score(y_train, y_pred ))"
      ],
      "metadata": {
        "colab": {
          "base_uri": "https://localhost:8080/",
          "height": 0
        },
        "id": "Tehnyezz3IK3",
        "outputId": "375feee7-11c8-44e6-e0b8-336136704a73"
      },
      "execution_count": 114,
      "outputs": [
        {
          "output_type": "stream",
          "name": "stdout",
          "text": [
            "Error medio Absoluto (MAE): 120111.24464567527\n",
            "Root Mean Squared Error: 174164.006294397\n",
            "r2_score 0.7706142422681812\n"
          ]
        }
      ]
    },
    {
      "cell_type": "code",
      "source": [
        "polyX = poly_transform.fit_transform(X_test)\n",
        "\n",
        "y_pred = poly_regression.predict(polyX)"
      ],
      "metadata": {
        "id": "L05do8xu3J_4"
      },
      "execution_count": 115,
      "outputs": []
    },
    {
      "cell_type": "code",
      "source": [
        "from sklearn import metrics\n",
        "from sklearn.metrics import r2_score\n",
        "Poly_Mae=metrics.mean_absolute_error(y_test,y_pred)\n",
        "Poly_r2=r2_score(y_test,y_pred)\n",
        "print('Error medio Absoluto (MAE):', metrics.mean_absolute_error(y_test, y_pred))\n",
        "print('Root Mean Squared Error:', np.sqrt(metrics.mean_squared_error(y_test, y_pred)))\n",
        "print('r2_score',r2_score(y_test, y_pred ))"
      ],
      "metadata": {
        "colab": {
          "base_uri": "https://localhost:8080/",
          "height": 0
        },
        "id": "jqyalUa93Lqm",
        "outputId": "4c61f62a-0482-48bf-8d28-770fbd78caba"
      },
      "execution_count": 116,
      "outputs": [
        {
          "output_type": "stream",
          "name": "stdout",
          "text": [
            "Error medio Absoluto (MAE): 127640.87573988685\n",
            "Root Mean Squared Error: 212376.50824233124\n",
            "r2_score 0.7137146909613681\n"
          ]
        }
      ]
    },
    {
      "cell_type": "markdown",
      "source": [
        "ridge"
      ],
      "metadata": {
        "id": "ntovAmu03QJ9"
      }
    },
    {
      "cell_type": "code",
      "source": [
        "X_train2=X_train.to_numpy().reshape(-1,1)\n"
      ],
      "metadata": {
        "id": "wJxnE_6m3Q9Q"
      },
      "execution_count": 117,
      "outputs": []
    },
    {
      "cell_type": "code",
      "source": [
        "from sklearn.pipeline import Pipeline\n",
        "from sklearn.preprocessing import StandardScaler\n",
        "from sklearn.linear_model import LinearRegression\n",
        "from sklearn.preprocessing import PolynomialFeatures\n",
        "model = Pipeline([(\"poly_features\", PolynomialFeatures(degree=2, include_bias=False)),\n",
        "                  (\"scaler\", StandardScaler()),\n",
        "                  (\"linear_reg\", LinearRegression())])\n",
        "model.fit(X_train, y_train)"
      ],
      "metadata": {
        "colab": {
          "base_uri": "https://localhost:8080/",
          "height": 0
        },
        "id": "zzX39V4K3T1X",
        "outputId": "3ed3ecf7-0cb5-44a8-86ff-22543565ea9a"
      },
      "execution_count": 118,
      "outputs": [
        {
          "output_type": "execute_result",
          "data": {
            "text/plain": [
              "Pipeline(steps=[('poly_features', PolynomialFeatures(include_bias=False)),\n",
              "                ('scaler', StandardScaler()),\n",
              "                ('linear_reg', LinearRegression())])"
            ]
          },
          "metadata": {},
          "execution_count": 118
        }
      ]
    },
    {
      "cell_type": "code",
      "source": [
        "from sklearn import metrics\n",
        "from sklearn.metrics import r2_score\n",
        "Ridge_Mae=metrics.mean_absolute_error(y_test,y_pred)\n",
        "Ridge_r2=r2_score(y_test,y_pred)\n",
        "print('Error medio Absoluto (MAE):', metrics.mean_absolute_error(y_test, y_pred))\n",
        "print('Root Mean Squared Error:', np.sqrt(metrics.mean_squared_error(y_test, y_pred)))\n",
        "print('r2_score',r2_score(y_test, y_pred ))"
      ],
      "metadata": {
        "colab": {
          "base_uri": "https://localhost:8080/",
          "height": 0
        },
        "id": "T7PIAxr556Va",
        "outputId": "c62a959f-50db-47a4-d683-e0f611f5d788"
      },
      "execution_count": 119,
      "outputs": [
        {
          "output_type": "stream",
          "name": "stdout",
          "text": [
            "Error medio Absoluto (MAE): 127640.87573988685\n",
            "Root Mean Squared Error: 212376.50824233124\n",
            "r2_score 0.7137146909613681\n"
          ]
        }
      ]
    },
    {
      "cell_type": "markdown",
      "source": [
        "lasso"
      ],
      "metadata": {
        "id": "RQAnMsVi6LXt"
      }
    },
    {
      "cell_type": "code",
      "source": [
        "from sklearn.linear_model import Lasso\n",
        "\n",
        "model_lasso = Pipeline([(\"poly_features\", PolynomialFeatures(degree=5, include_bias=False)),\n",
        "                        (\"scaler\", StandardScaler()),\n",
        "                        (\"lasso\", Lasso(alpha = 1, random_state = 42,tol=0.1,max_iter=1000))])\n",
        "\n",
        "\n",
        "model_lasso.fit(X_train, y_train)"
      ],
      "metadata": {
        "colab": {
          "base_uri": "https://localhost:8080/",
          "height": 0
        },
        "id": "mgewy3MM6MFS",
        "outputId": "29d4a5a4-6251-4126-846d-e95a7a9f6056"
      },
      "execution_count": 120,
      "outputs": [
        {
          "output_type": "execute_result",
          "data": {
            "text/plain": [
              "Pipeline(steps=[('poly_features',\n",
              "                 PolynomialFeatures(degree=5, include_bias=False)),\n",
              "                ('scaler', StandardScaler()),\n",
              "                ('lasso', Lasso(alpha=1, random_state=42, tol=0.1))])"
            ]
          },
          "metadata": {},
          "execution_count": 120
        }
      ]
    },
    {
      "cell_type": "code",
      "source": [
        "y_pred = model_lasso.predict(X_train)\n",
        "from sklearn import metrics\n",
        "from sklearn.metrics import r2_score\n",
        "\n",
        "Lasso_MAE_train = metrics.mean_absolute_error(y_train, y_pred)\n",
        "Lasso_r2_train= r2_score(y_train, y_pred)\n",
        "print('Error medio Absoluto (MAE):', metrics.mean_absolute_error(y_train, y_pred))\n",
        "print('Root Mean Squared Error:', np.sqrt(metrics.mean_squared_error(y_train, y_pred)))\n",
        "print('r2_score', r2_score(y_train, y_pred))"
      ],
      "metadata": {
        "colab": {
          "base_uri": "https://localhost:8080/",
          "height": 0
        },
        "id": "-bsoWeba61eS",
        "outputId": "98224667-fa95-4196-8438-31010ebbc3c3"
      },
      "execution_count": 121,
      "outputs": [
        {
          "output_type": "stream",
          "name": "stdout",
          "text": [
            "Error medio Absoluto (MAE): 113884.60002386104\n",
            "Root Mean Squared Error: 162623.202988018\n",
            "r2_score 0.8000070629856829\n"
          ]
        }
      ]
    },
    {
      "cell_type": "code",
      "source": [
        "y_pred = model_lasso.predict(X_test)\n"
      ],
      "metadata": {
        "id": "enPeuu8F8rEO"
      },
      "execution_count": 124,
      "outputs": []
    },
    {
      "cell_type": "code",
      "source": [
        "from sklearn import metrics\n",
        "from sklearn.metrics import r2_score\n",
        "Lasso_MAE=metrics.mean_absolute_error(y_test,y_pred)\n",
        "Lasso_r2=r2_score(y_test,y_pred)\n",
        "print('Error medio Absoluto (MAE):', metrics.mean_absolute_error(y_test, y_pred))\n",
        "print('Root Mean Squared Error:', np.sqrt(metrics.mean_squared_error(y_test, y_pred)))\n",
        "print('r2_score',r2_score(y_test, y_pred ))"
      ],
      "metadata": {
        "colab": {
          "base_uri": "https://localhost:8080/",
          "height": 0
        },
        "id": "GoLPIFyh63PM",
        "outputId": "94168f6a-c150-4e47-9269-e0b529ca7965"
      },
      "execution_count": 125,
      "outputs": [
        {
          "output_type": "stream",
          "name": "stdout",
          "text": [
            "Error medio Absoluto (MAE): 127385.85985379248\n",
            "Root Mean Squared Error: 254950.23977556612\n",
            "r2_score 0.5874306511507208\n"
          ]
        }
      ]
    },
    {
      "cell_type": "code",
      "source": [
        "Metricas = list()\n",
        "Metricas.append('Lin train')\n",
        "Metricas.append('Lin')\n",
        "Metricas.append('Poly train')\n",
        "Metricas.append('Poly')\n",
        "Metricas.append('Ridge train')\n",
        "Metricas.append('Ridge')\n",
        "Metricas.append('Lasso train')\n",
        "Metricas.append('Lasso')"
      ],
      "metadata": {
        "id": "KQZYmlfZ640U"
      },
      "execution_count": 126,
      "outputs": []
    },
    {
      "cell_type": "code",
      "source": [
        "MAE_list = list()\n",
        "MAE_list.append(linear_Mae_train)\n",
        "MAE_list.append(linear_Mae)\n",
        "MAE_list.append(Poly_Mae_train)\n",
        "MAE_list.append(Poly_Mae)\n",
        "MAE_list.append(Ridge_Mae_train)\n",
        "MAE_list.append(Ridge_Mae)\n",
        "MAE_list.append(Lasso_MAE_train)\n",
        "MAE_list.append(Lasso_MAE)"
      ],
      "metadata": {
        "id": "m3cDLcHo65rS"
      },
      "execution_count": 127,
      "outputs": []
    },
    {
      "cell_type": "code",
      "source": [
        "fig, ax = plt.subplots(figsize =(8, 4))\n",
        "print(\"MAE\")\n",
        "print(MAE_list)\n",
        "Metricas=list(Metricas)\n",
        "MAE=list(MAE_list)\n",
        "plt.bar(Metricas,MAE_list)\n",
        "\n",
        "\n",
        "plt.show()"
      ],
      "metadata": {
        "colab": {
          "base_uri": "https://localhost:8080/",
          "height": 320
        },
        "id": "4D55calM7Drh",
        "outputId": "a35e0c63-0ede-4db5-8403-98086a04da2b"
      },
      "execution_count": 128,
      "outputs": [
        {
          "output_type": "stream",
          "name": "stdout",
          "text": [
            "MAE\n",
            "[139269.32939115583, 137480.1388273178, 120111.24464567527, 127640.87573988685, 4.453130806314608, 127640.87573988685, 113884.60002386104, 127385.85985379248]\n"
          ]
        },
        {
          "output_type": "display_data",
          "data": {
            "text/plain": [
              "<Figure size 576x288 with 1 Axes>"
            ],
            "image/png": "[encoded data removed]"
          },
          "metadata": {
            "needs_background": "light"
          }
        }
      ]
    },
    {
      "cell_type": "code",
      "source": [
        "R2_list = list()\n",
        "R2_list.append(linear_r2_train)\n",
        "R2_list.append(linear_r2)\n",
        "R2_list.append(Poly_r2_train)\n",
        "R2_list.append(Poly_r2)\n",
        "R2_list.append(Ridge_r2_train)\n",
        "R2_list.append(Ridge_r2)\n",
        "R2_list.append(Lasso_r2_train)\n",
        "R2_list.append(Lasso_r2)\n",
        "fig, ax = plt.subplots(figsize=(10, 4))\n",
        "print(\"r2\")\n",
        "print(R2_list)\n",
        "plt.bar(Metricas, R2_list)\n",
        "plt.show()"
      ],
      "metadata": {
        "colab": {
          "base_uri": "https://localhost:8080/",
          "height": 320
        },
        "id": "NJI5I9f97JXp",
        "outputId": "4dad15b1-4dcc-4db4-9a4f-03006b340cc2"
      },
      "execution_count": 129,
      "outputs": [
        {
          "output_type": "stream",
          "name": "stdout",
          "text": [
            "r2\n",
            "[0.6529196653133833, 0.6579723205007814, 0.7706142422681812, 0.7137146909613681, 0.7011237920037103, 0.7137146909613681, 0.8000070629856829, 0.5874306511507208]\n"
          ]
        },
        {
          "output_type": "display_data",
          "data": {
            "text/plain": [
              "<Figure size 720x288 with 1 Axes>"
            ],
            "image/png": "[encoded data removed]"
          },
          "metadata": {
            "needs_background": "light"
          }
        }
      ]
    },
    {
      "cell_type": "markdown",
      "source": [
        "# Conclusiones\n",
        "\n",
        "El comportamiento de Ridge es mas estable en cuanto a sus resultados. Pudiera ser una buena  opcion. "
      ],
      "metadata": {
        "id": "aPDunsbY8z90"
      }
    }
  ]
}